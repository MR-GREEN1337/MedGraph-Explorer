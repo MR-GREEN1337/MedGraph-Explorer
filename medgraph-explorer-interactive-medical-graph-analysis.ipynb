{
 "cells": [
  {
   "cell_type": "code",
   "execution_count": 1,
   "metadata": {
    "_cell_guid": "b1076dfc-b9ad-4769-8c92-a6c4dae69d19",
    "_uuid": "8f2839f25d086af736a60e9eeb907d3b93b6e0e5",
    "execution": {
     "iopub.execute_input": "2025-03-05T20:20:42.799844Z",
     "iopub.status.busy": "2025-03-05T20:20:42.799504Z",
     "iopub.status.idle": "2025-03-05T20:20:50.312613Z",
     "shell.execute_reply": "2025-03-05T20:20:50.311409Z",
     "shell.execute_reply.started": "2025-03-05T20:20:42.799818Z"
    },
    "trusted": true
   },
   "outputs": [
    {
     "name": "stdout",
     "output_type": "stream",
     "text": [
      "Collecting nx-arangodb\n",
      "  Downloading nx_arangodb-1.3.0-py3-none-any.whl.metadata (9.3 kB)\n",
      "Collecting networkx<=3.4,>=3.0 (from nx-arangodb)\n",
      "  Downloading networkx-3.4-py3-none-any.whl.metadata (6.3 kB)\n",
      "Collecting phenolrs~=0.5 (from nx-arangodb)\n",
      "  Downloading phenolrs-0.5.9-cp310-cp310-manylinux_2_17_x86_64.manylinux2014_x86_64.whl.metadata (1.7 kB)\n",
      "Collecting python-arango~=8.1 (from nx-arangodb)\n",
      "  Downloading python_arango-8.1.6-py3-none-any.whl.metadata (8.2 kB)\n",
      "Collecting adbnx-adapter~=5.0.5 (from nx-arangodb)\n",
      "  Downloading adbnx_adapter-5.0.6-py3-none-any.whl.metadata (21 kB)\n",
      "Requirement already satisfied: requests>=2.27.1 in /usr/local/lib/python3.10/dist-packages (from adbnx-adapter~=5.0.5->nx-arangodb) (2.32.3)\n",
      "Requirement already satisfied: rich>=12.5.1 in /usr/local/lib/python3.10/dist-packages (from adbnx-adapter~=5.0.5->nx-arangodb) (13.9.4)\n",
      "Requirement already satisfied: setuptools>=45 in /usr/local/lib/python3.10/dist-packages (from adbnx-adapter~=5.0.5->nx-arangodb) (75.1.0)\n",
      "Requirement already satisfied: numpy~=1.26 in /usr/local/lib/python3.10/dist-packages (from phenolrs~=0.5->nx-arangodb) (1.26.4)\n",
      "Requirement already satisfied: urllib3>=1.26.0 in /usr/local/lib/python3.10/dist-packages (from python-arango~=8.1->nx-arangodb) (2.3.0)\n",
      "Requirement already satisfied: requests_toolbelt in /usr/local/lib/python3.10/dist-packages (from python-arango~=8.1->nx-arangodb) (1.0.0)\n",
      "Requirement already satisfied: PyJWT in /usr/local/lib/python3.10/dist-packages (from python-arango~=8.1->nx-arangodb) (2.10.1)\n",
      "Requirement already satisfied: importlib_metadata>=4.7.1 in /usr/local/lib/python3.10/dist-packages (from python-arango~=8.1->nx-arangodb) (8.5.0)\n",
      "Requirement already satisfied: packaging>=23.1 in /usr/local/lib/python3.10/dist-packages (from python-arango~=8.1->nx-arangodb) (24.2)\n",
      "Requirement already satisfied: zipp>=3.20 in /usr/local/lib/python3.10/dist-packages (from importlib_metadata>=4.7.1->python-arango~=8.1->nx-arangodb) (3.21.0)\n",
      "Requirement already satisfied: mkl_fft in /usr/local/lib/python3.10/dist-packages (from numpy~=1.26->phenolrs~=0.5->nx-arangodb) (1.3.8)\n",
      "Requirement already satisfied: mkl_random in /usr/local/lib/python3.10/dist-packages (from numpy~=1.26->phenolrs~=0.5->nx-arangodb) (1.2.4)\n",
      "Requirement already satisfied: mkl_umath in /usr/local/lib/python3.10/dist-packages (from numpy~=1.26->phenolrs~=0.5->nx-arangodb) (0.1.1)\n",
      "Requirement already satisfied: mkl in /usr/local/lib/python3.10/dist-packages (from numpy~=1.26->phenolrs~=0.5->nx-arangodb) (2025.0.1)\n",
      "Requirement already satisfied: tbb4py in /usr/local/lib/python3.10/dist-packages (from numpy~=1.26->phenolrs~=0.5->nx-arangodb) (2022.0.0)\n",
      "Requirement already satisfied: mkl-service in /usr/local/lib/python3.10/dist-packages (from numpy~=1.26->phenolrs~=0.5->nx-arangodb) (2.4.1)\n",
      "Requirement already satisfied: charset-normalizer<4,>=2 in /usr/local/lib/python3.10/dist-packages (from requests>=2.27.1->adbnx-adapter~=5.0.5->nx-arangodb) (3.4.1)\n",
      "Requirement already satisfied: idna<4,>=2.5 in /usr/local/lib/python3.10/dist-packages (from requests>=2.27.1->adbnx-adapter~=5.0.5->nx-arangodb) (3.10)\n",
      "Requirement already satisfied: certifi>=2017.4.17 in /usr/local/lib/python3.10/dist-packages (from requests>=2.27.1->adbnx-adapter~=5.0.5->nx-arangodb) (2025.1.31)\n",
      "Requirement already satisfied: markdown-it-py>=2.2.0 in /usr/local/lib/python3.10/dist-packages (from rich>=12.5.1->adbnx-adapter~=5.0.5->nx-arangodb) (3.0.0)\n",
      "Requirement already satisfied: pygments<3.0.0,>=2.13.0 in /usr/local/lib/python3.10/dist-packages (from rich>=12.5.1->adbnx-adapter~=5.0.5->nx-arangodb) (2.19.1)\n",
      "Requirement already satisfied: typing-extensions<5.0,>=4.0.0 in /usr/local/lib/python3.10/dist-packages (from rich>=12.5.1->adbnx-adapter~=5.0.5->nx-arangodb) (4.12.2)\n",
      "Requirement already satisfied: mdurl~=0.1 in /usr/local/lib/python3.10/dist-packages (from markdown-it-py>=2.2.0->rich>=12.5.1->adbnx-adapter~=5.0.5->nx-arangodb) (0.1.2)\n",
      "Requirement already satisfied: intel-openmp>=2024 in /usr/local/lib/python3.10/dist-packages (from mkl->numpy~=1.26->phenolrs~=0.5->nx-arangodb) (2024.2.0)\n",
      "Requirement already satisfied: tbb==2022.* in /usr/local/lib/python3.10/dist-packages (from mkl->numpy~=1.26->phenolrs~=0.5->nx-arangodb) (2022.0.0)\n",
      "Requirement already satisfied: tcmlib==1.* in /usr/local/lib/python3.10/dist-packages (from tbb==2022.*->mkl->numpy~=1.26->phenolrs~=0.5->nx-arangodb) (1.2.0)\n",
      "Requirement already satisfied: intel-cmplr-lib-rt in /usr/local/lib/python3.10/dist-packages (from mkl_umath->numpy~=1.26->phenolrs~=0.5->nx-arangodb) (2024.2.0)\n",
      "Requirement already satisfied: intel-cmplr-lib-ur==2024.2.0 in /usr/local/lib/python3.10/dist-packages (from intel-openmp>=2024->mkl->numpy~=1.26->phenolrs~=0.5->nx-arangodb) (2024.2.0)\n",
      "Downloading nx_arangodb-1.3.0-py3-none-any.whl (67 kB)\n",
      "\u001b[2K   \u001b[90m━━━━━━━━━━━━━━━━━━━━━━━━━━━━━━━━━━━━━━━━\u001b[0m \u001b[32m67.8/67.8 kB\u001b[0m \u001b[31m2.1 MB/s\u001b[0m eta \u001b[36m0:00:00\u001b[0m\n",
      "\u001b[?25hDownloading adbnx_adapter-5.0.6-py3-none-any.whl (21 kB)\n",
      "Downloading networkx-3.4-py3-none-any.whl (1.7 MB)\n",
      "\u001b[2K   \u001b[90m━━━━━━━━━━━━━━━━━━━━━━━━━━━━━━━━━━━━━━━━\u001b[0m \u001b[32m1.7/1.7 MB\u001b[0m \u001b[31m27.2 MB/s\u001b[0m eta \u001b[36m0:00:00\u001b[0ma \u001b[36m0:00:01\u001b[0m\n",
      "\u001b[?25hDownloading phenolrs-0.5.9-cp310-cp310-manylinux_2_17_x86_64.manylinux2014_x86_64.whl (4.7 MB)\n",
      "\u001b[2K   \u001b[90m━━━━━━━━━━━━━━━━━━━━━━━━━━━━━━━━━━━━━━━━\u001b[0m \u001b[32m4.7/4.7 MB\u001b[0m \u001b[31m75.9 MB/s\u001b[0m eta \u001b[36m0:00:00\u001b[0m:00:01\u001b[0m\n",
      "\u001b[?25hDownloading python_arango-8.1.6-py3-none-any.whl (114 kB)\n",
      "\u001b[2K   \u001b[90m━━━━━━━━━━━━━━━━━━━━━━━━━━━━━━━━━━━━━━━━\u001b[0m \u001b[32m114.6/114.6 kB\u001b[0m \u001b[31m6.6 MB/s\u001b[0m eta \u001b[36m0:00:00\u001b[0m\n",
      "\u001b[?25hInstalling collected packages: networkx, python-arango, adbnx-adapter, phenolrs, nx-arangodb\n",
      "  Attempting uninstall: networkx\n",
      "    Found existing installation: networkx 3.4.2\n",
      "    Uninstalling networkx-3.4.2:\n",
      "      Successfully uninstalled networkx-3.4.2\n",
      "Successfully installed adbnx-adapter-5.0.6 networkx-3.4 nx-arangodb-1.3.0 phenolrs-0.5.9 python-arango-8.1.6\n"
     ]
    }
   ],
   "source": [
    "!pip install nx-arangodb"
   ]
  },
  {
   "cell_type": "code",
   "execution_count": 2,
   "metadata": {
    "execution": {
     "iopub.execute_input": "2025-03-05T20:20:50.314366Z",
     "iopub.status.busy": "2025-03-05T20:20:50.314092Z",
     "iopub.status.idle": "2025-03-05T20:20:50.482936Z",
     "shell.execute_reply": "2025-03-05T20:20:50.481946Z",
     "shell.execute_reply.started": "2025-03-05T20:20:50.314342Z"
    },
    "trusted": true
   },
   "outputs": [
    {
     "name": "stdout",
     "output_type": "stream",
     "text": [
      "Wed Mar  5 20:20:50 2025       \n",
      "+-----------------------------------------------------------------------------------------+\n",
      "| NVIDIA-SMI 560.35.03              Driver Version: 560.35.03      CUDA Version: 12.6     |\n",
      "|-----------------------------------------+------------------------+----------------------+\n",
      "| GPU  Name                 Persistence-M | Bus-Id          Disp.A | Volatile Uncorr. ECC |\n",
      "| Fan  Temp   Perf          Pwr:Usage/Cap |           Memory-Usage | GPU-Util  Compute M. |\n",
      "|                                         |                        |               MIG M. |\n",
      "|=========================================+========================+======================|\n",
      "|   0  Tesla P100-PCIE-16GB           Off |   00000000:00:04.0 Off |                    0 |\n",
      "| N/A   40C    P0             27W /  250W |       0MiB /  16384MiB |      0%      Default |\n",
      "|                                         |                        |                  N/A |\n",
      "+-----------------------------------------+------------------------+----------------------+\n",
      "                                                                                         \n",
      "+-----------------------------------------------------------------------------------------+\n",
      "| Processes:                                                                              |\n",
      "|  GPU   GI   CI        PID   Type   Process name                              GPU Memory |\n",
      "|        ID   ID                                                               Usage      |\n",
      "|=========================================================================================|\n",
      "|  No running processes found                                                             |\n",
      "+-----------------------------------------------------------------------------------------+\n"
     ]
    }
   ],
   "source": [
    "!nvidia-smi"
   ]
  },
  {
   "cell_type": "code",
   "execution_count": 3,
   "metadata": {
    "execution": {
     "iopub.execute_input": "2025-03-05T20:20:50.485668Z",
     "iopub.status.busy": "2025-03-05T20:20:50.485364Z",
     "iopub.status.idle": "2025-03-05T20:21:06.823628Z",
     "shell.execute_reply": "2025-03-05T20:21:06.822675Z",
     "shell.execute_reply.started": "2025-03-05T20:20:50.485641Z"
    },
    "trusted": true
   },
   "outputs": [
    {
     "name": "stdout",
     "output_type": "stream",
     "text": [
      "Looking in indexes: https://pypi.org/simple, https://pypi.nvidia.com\n",
      "Requirement already satisfied: nx-cugraph-cu12 in /usr/local/lib/python3.10/dist-packages (24.10.0)\n",
      "Requirement already satisfied: cupy-cuda12x>=12.0.0 in /usr/local/lib/python3.10/dist-packages (from nx-cugraph-cu12) (12.2.0)\n",
      "Requirement already satisfied: networkx>=3.0 in /usr/local/lib/python3.10/dist-packages (from nx-cugraph-cu12) (3.4)\n",
      "Requirement already satisfied: numpy<3.0a0,>=1.23 in /usr/local/lib/python3.10/dist-packages (from nx-cugraph-cu12) (1.26.4)\n",
      "Requirement already satisfied: pylibcugraph-cu12==24.10.* in /usr/local/lib/python3.10/dist-packages (from nx-cugraph-cu12) (24.10.0)\n",
      "Requirement already satisfied: nvidia-cublas-cu12 in /usr/local/lib/python3.10/dist-packages (from pylibcugraph-cu12==24.10.*->nx-cugraph-cu12) (12.6.4.1)\n",
      "Requirement already satisfied: nvidia-curand-cu12 in /usr/local/lib/python3.10/dist-packages (from pylibcugraph-cu12==24.10.*->nx-cugraph-cu12) (10.3.7.77)\n",
      "Requirement already satisfied: nvidia-cusolver-cu12 in /usr/local/lib/python3.10/dist-packages (from pylibcugraph-cu12==24.10.*->nx-cugraph-cu12) (11.7.1.2)\n",
      "Requirement already satisfied: nvidia-cusparse-cu12 in /usr/local/lib/python3.10/dist-packages (from pylibcugraph-cu12==24.10.*->nx-cugraph-cu12) (12.5.4.2)\n",
      "Collecting pylibraft-cu12==24.10.* (from pylibcugraph-cu12==24.10.*->nx-cugraph-cu12)\n",
      "  Downloading https://pypi.nvidia.com/pylibraft-cu12/pylibraft_cu12-24.10.0-cp310-cp310-manylinux_2_28_x86_64.whl (453.1 MB)\n",
      "\u001b[2K     \u001b[90m━━━━━━━━━━━━━━━━━━━━━━━━━━━━━━━━━━━━━━━━\u001b[0m \u001b[32m453.1/453.1 MB\u001b[0m \u001b[31m55.5 MB/s\u001b[0m eta \u001b[36m0:00:00\u001b[0m:00:01\u001b[0m00:01\u001b[0m\n",
      "\u001b[?25hCollecting rmm-cu12==24.10.* (from pylibcugraph-cu12==24.10.*->nx-cugraph-cu12)\n",
      "  Downloading https://pypi.nvidia.com/rmm-cu12/rmm_cu12-24.10.0-cp310-cp310-manylinux_2_24_x86_64.manylinux_2_28_x86_64.whl (1.7 MB)\n",
      "\u001b[2K     \u001b[90m━━━━━━━━━━━━━━━━━━━━━━━━━━━━━━━━━━━━━━━━\u001b[0m \u001b[32m1.7/1.7 MB\u001b[0m \u001b[31m172.0 MB/s\u001b[0m eta \u001b[36m0:00:00\u001b[0m\n",
      "\u001b[?25hRequirement already satisfied: cuda-python<13.0a0,>=12.0 in /usr/local/lib/python3.10/dist-packages (from pylibraft-cu12==24.10.*->pylibcugraph-cu12==24.10.*->nx-cugraph-cu12) (12.8.0)\n",
      "Requirement already satisfied: numba>=0.57 in /usr/local/lib/python3.10/dist-packages (from rmm-cu12==24.10.*->pylibcugraph-cu12==24.10.*->nx-cugraph-cu12) (0.60.0)\n",
      "Requirement already satisfied: fastrlock>=0.5 in /usr/local/lib/python3.10/dist-packages (from cupy-cuda12x>=12.0.0->nx-cugraph-cu12) (0.8.2)\n",
      "Requirement already satisfied: mkl_fft in /usr/local/lib/python3.10/dist-packages (from numpy<3.0a0,>=1.23->nx-cugraph-cu12) (1.3.8)\n",
      "Requirement already satisfied: mkl_random in /usr/local/lib/python3.10/dist-packages (from numpy<3.0a0,>=1.23->nx-cugraph-cu12) (1.2.4)\n",
      "Requirement already satisfied: mkl_umath in /usr/local/lib/python3.10/dist-packages (from numpy<3.0a0,>=1.23->nx-cugraph-cu12) (0.1.1)\n",
      "Requirement already satisfied: mkl in /usr/local/lib/python3.10/dist-packages (from numpy<3.0a0,>=1.23->nx-cugraph-cu12) (2025.0.1)\n",
      "Requirement already satisfied: tbb4py in /usr/local/lib/python3.10/dist-packages (from numpy<3.0a0,>=1.23->nx-cugraph-cu12) (2022.0.0)\n",
      "Requirement already satisfied: mkl-service in /usr/local/lib/python3.10/dist-packages (from numpy<3.0a0,>=1.23->nx-cugraph-cu12) (2.4.1)\n",
      "Requirement already satisfied: intel-openmp>=2024 in /usr/local/lib/python3.10/dist-packages (from mkl->numpy<3.0a0,>=1.23->nx-cugraph-cu12) (2024.2.0)\n",
      "Requirement already satisfied: tbb==2022.* in /usr/local/lib/python3.10/dist-packages (from mkl->numpy<3.0a0,>=1.23->nx-cugraph-cu12) (2022.0.0)\n",
      "Requirement already satisfied: tcmlib==1.* in /usr/local/lib/python3.10/dist-packages (from tbb==2022.*->mkl->numpy<3.0a0,>=1.23->nx-cugraph-cu12) (1.2.0)\n",
      "Requirement already satisfied: intel-cmplr-lib-rt in /usr/local/lib/python3.10/dist-packages (from mkl_umath->numpy<3.0a0,>=1.23->nx-cugraph-cu12) (2024.2.0)\n",
      "Requirement already satisfied: nvidia-nvjitlink-cu12 in /usr/local/lib/python3.10/dist-packages (from nvidia-cusolver-cu12->pylibcugraph-cu12==24.10.*->nx-cugraph-cu12) (12.6.85)\n",
      "Requirement already satisfied: cuda-bindings~=12.8.0 in /usr/local/lib/python3.10/dist-packages (from cuda-python<13.0a0,>=12.0->pylibraft-cu12==24.10.*->pylibcugraph-cu12==24.10.*->nx-cugraph-cu12) (12.8.0)\n",
      "Requirement already satisfied: intel-cmplr-lib-ur==2024.2.0 in /usr/local/lib/python3.10/dist-packages (from intel-openmp>=2024->mkl->numpy<3.0a0,>=1.23->nx-cugraph-cu12) (2024.2.0)\n",
      "Requirement already satisfied: llvmlite<0.44,>=0.43.0dev0 in /usr/local/lib/python3.10/dist-packages (from numba>=0.57->rmm-cu12==24.10.*->pylibcugraph-cu12==24.10.*->nx-cugraph-cu12) (0.43.0)\n",
      "Installing collected packages: rmm-cu12, pylibraft-cu12\n",
      "  Attempting uninstall: rmm-cu12\n",
      "    Found existing installation: rmm-cu12 25.2.0\n",
      "    Uninstalling rmm-cu12-25.2.0:\n",
      "      Successfully uninstalled rmm-cu12-25.2.0\n",
      "  Attempting uninstall: pylibraft-cu12\n",
      "    Found existing installation: pylibraft-cu12 25.2.0\n",
      "    Uninstalling pylibraft-cu12-25.2.0:\n",
      "      Successfully uninstalled pylibraft-cu12-25.2.0\n",
      "\u001b[31mERROR: pip's dependency resolver does not currently take into account all the packages that are installed. This behaviour is the source of the following dependency conflicts.\n",
      "cudf-cu12 25.2.0 requires rmm-cu12==25.2.*, but you have rmm-cu12 24.10.0 which is incompatible.\n",
      "cuml-cu12 25.2.0 requires pylibraft-cu12==25.2.*, but you have pylibraft-cu12 24.10.0 which is incompatible.\n",
      "cuml-cu12 25.2.0 requires rmm-cu12==25.2.*, but you have rmm-cu12 24.10.0 which is incompatible.\n",
      "cuvs-cu12 25.2.0 requires pylibraft-cu12==25.2.*, but you have pylibraft-cu12 24.10.0 which is incompatible.\n",
      "pylibcudf-cu12 25.2.0 requires rmm-cu12==25.2.*, but you have rmm-cu12 24.10.0 which is incompatible.\n",
      "raft-dask-cu12 25.2.0 requires pylibraft-cu12==25.2.*, but you have pylibraft-cu12 24.10.0 which is incompatible.\n",
      "ucxx-cu12 0.42.0 requires rmm-cu12==25.2.*, but you have rmm-cu12 24.10.0 which is incompatible.\u001b[0m\u001b[31m\n",
      "\u001b[0mSuccessfully installed pylibraft-cu12-24.10.0 rmm-cu12-24.10.0\n"
     ]
    }
   ],
   "source": [
    "!pip install nx-cugraph-cu12 --extra-index-url https://pypi.nvidia.com"
   ]
  },
  {
   "cell_type": "code",
   "execution_count": 4,
   "metadata": {
    "execution": {
     "iopub.execute_input": "2025-03-05T20:21:06.825326Z",
     "iopub.status.busy": "2025-03-05T20:21:06.825054Z",
     "iopub.status.idle": "2025-03-05T20:21:22.986075Z",
     "shell.execute_reply": "2025-03-05T20:21:22.985066Z",
     "shell.execute_reply.started": "2025-03-05T20:21:06.825292Z"
    },
    "trusted": true
   },
   "outputs": [
    {
     "name": "stdout",
     "output_type": "stream",
     "text": [
      "Requirement already satisfied: langchain in /usr/local/lib/python3.10/dist-packages (0.3.12)\n",
      "Collecting langchain\n",
      "  Downloading langchain-0.3.20-py3-none-any.whl.metadata (7.7 kB)\n",
      "Collecting langchain-community\n",
      "  Downloading langchain_community-0.3.19-py3-none-any.whl.metadata (2.4 kB)\n",
      "Collecting langchain-openai\n",
      "  Downloading langchain_openai-0.3.7-py3-none-any.whl.metadata (2.3 kB)\n",
      "Collecting langgraph\n",
      "  Downloading langgraph-0.3.5-py3-none-any.whl.metadata (17 kB)\n",
      "Collecting arango-datasets\n",
      "  Downloading arango_datasets-1.2.3-py3-none-any.whl.metadata (4.5 kB)\n",
      "Collecting kaleido\n",
      "  Downloading kaleido-0.2.1-py2.py3-none-manylinux1_x86_64.whl.metadata (15 kB)\n",
      "Collecting langchain-core<1.0.0,>=0.3.41 (from langchain)\n",
      "  Downloading langchain_core-0.3.41-py3-none-any.whl.metadata (5.9 kB)\n",
      "Collecting langchain-text-splitters<1.0.0,>=0.3.6 (from langchain)\n",
      "  Downloading langchain_text_splitters-0.3.6-py3-none-any.whl.metadata (1.9 kB)\n",
      "Requirement already satisfied: langsmith<0.4,>=0.1.17 in /usr/local/lib/python3.10/dist-packages (from langchain) (0.2.3)\n",
      "Requirement already satisfied: pydantic<3.0.0,>=2.7.4 in /usr/local/lib/python3.10/dist-packages (from langchain) (2.11.0a2)\n",
      "Requirement already satisfied: SQLAlchemy<3,>=1.4 in /usr/local/lib/python3.10/dist-packages (from langchain) (2.0.36)\n",
      "Requirement already satisfied: requests<3,>=2 in /usr/local/lib/python3.10/dist-packages (from langchain) (2.32.3)\n",
      "Requirement already satisfied: PyYAML>=5.3 in /usr/local/lib/python3.10/dist-packages (from langchain) (6.0.2)\n",
      "Collecting async-timeout<5.0.0,>=4.0.0 (from langchain)\n",
      "  Downloading async_timeout-4.0.3-py3-none-any.whl.metadata (4.2 kB)\n",
      "Requirement already satisfied: aiohttp<4.0.0,>=3.8.3 in /usr/local/lib/python3.10/dist-packages (from langchain-community) (3.11.12)\n",
      "Requirement already satisfied: tenacity!=8.4.0,<10,>=8.1.0 in /usr/local/lib/python3.10/dist-packages (from langchain-community) (9.0.0)\n",
      "Requirement already satisfied: dataclasses-json<0.7,>=0.5.7 in /usr/local/lib/python3.10/dist-packages (from langchain-community) (0.6.7)\n",
      "Collecting pydantic-settings<3.0.0,>=2.4.0 (from langchain-community)\n",
      "  Downloading pydantic_settings-2.8.1-py3-none-any.whl.metadata (3.5 kB)\n",
      "Collecting httpx-sse<1.0.0,>=0.4.0 (from langchain-community)\n",
      "  Downloading httpx_sse-0.4.0-py3-none-any.whl.metadata (9.0 kB)\n",
      "Requirement already satisfied: numpy<3,>=1.26.2 in /usr/local/lib/python3.10/dist-packages (from langchain-community) (1.26.4)\n",
      "Collecting openai<2.0.0,>=1.58.1 (from langchain-openai)\n",
      "  Downloading openai-1.65.3-py3-none-any.whl.metadata (27 kB)\n",
      "Requirement already satisfied: tiktoken<1,>=0.7 in /usr/local/lib/python3.10/dist-packages (from langchain-openai) (0.9.0)\n",
      "Collecting langgraph-checkpoint<3.0.0,>=2.0.10 (from langgraph)\n",
      "  Downloading langgraph_checkpoint-2.0.16-py3-none-any.whl.metadata (4.6 kB)\n",
      "Collecting langgraph-prebuilt<0.2,>=0.1.1 (from langgraph)\n",
      "  Downloading langgraph_prebuilt-0.1.1-py3-none-any.whl.metadata (5.0 kB)\n",
      "Collecting langgraph-sdk<0.2.0,>=0.1.42 (from langgraph)\n",
      "  Downloading langgraph_sdk-0.1.53-py3-none-any.whl.metadata (1.8 kB)\n",
      "Requirement already satisfied: python-arango>=7.4.1 in /usr/local/lib/python3.10/dist-packages (from arango-datasets) (8.1.6)\n",
      "Requirement already satisfied: rich>=12.6.0 in /usr/local/lib/python3.10/dist-packages (from arango-datasets) (13.9.4)\n",
      "Requirement already satisfied: aiohappyeyeballs>=2.3.0 in /usr/local/lib/python3.10/dist-packages (from aiohttp<4.0.0,>=3.8.3->langchain-community) (2.4.6)\n",
      "Requirement already satisfied: aiosignal>=1.1.2 in /usr/local/lib/python3.10/dist-packages (from aiohttp<4.0.0,>=3.8.3->langchain-community) (1.3.2)\n",
      "Requirement already satisfied: attrs>=17.3.0 in /usr/local/lib/python3.10/dist-packages (from aiohttp<4.0.0,>=3.8.3->langchain-community) (25.1.0)\n",
      "Requirement already satisfied: frozenlist>=1.1.1 in /usr/local/lib/python3.10/dist-packages (from aiohttp<4.0.0,>=3.8.3->langchain-community) (1.5.0)\n",
      "Requirement already satisfied: multidict<7.0,>=4.5 in /usr/local/lib/python3.10/dist-packages (from aiohttp<4.0.0,>=3.8.3->langchain-community) (6.1.0)\n",
      "Requirement already satisfied: propcache>=0.2.0 in /usr/local/lib/python3.10/dist-packages (from aiohttp<4.0.0,>=3.8.3->langchain-community) (0.2.1)\n",
      "Requirement already satisfied: yarl<2.0,>=1.17.0 in /usr/local/lib/python3.10/dist-packages (from aiohttp<4.0.0,>=3.8.3->langchain-community) (1.18.3)\n",
      "Requirement already satisfied: marshmallow<4.0.0,>=3.18.0 in /usr/local/lib/python3.10/dist-packages (from dataclasses-json<0.7,>=0.5.7->langchain-community) (3.26.1)\n",
      "Requirement already satisfied: typing-inspect<1,>=0.4.0 in /usr/local/lib/python3.10/dist-packages (from dataclasses-json<0.7,>=0.5.7->langchain-community) (0.9.0)\n",
      "Requirement already satisfied: jsonpatch<2.0,>=1.33 in /usr/local/lib/python3.10/dist-packages (from langchain-core<1.0.0,>=0.3.41->langchain) (1.33)\n",
      "Requirement already satisfied: packaging<25,>=23.2 in /usr/local/lib/python3.10/dist-packages (from langchain-core<1.0.0,>=0.3.41->langchain) (24.2)\n",
      "Requirement already satisfied: typing-extensions>=4.7 in /usr/local/lib/python3.10/dist-packages (from langchain-core<1.0.0,>=0.3.41->langchain) (4.12.2)\n",
      "Requirement already satisfied: msgpack<2.0.0,>=1.1.0 in /usr/local/lib/python3.10/dist-packages (from langgraph-checkpoint<3.0.0,>=2.0.10->langgraph) (1.1.0)\n",
      "Requirement already satisfied: httpx>=0.25.2 in /usr/local/lib/python3.10/dist-packages (from langgraph-sdk<0.2.0,>=0.1.42->langgraph) (0.28.1)\n",
      "Requirement already satisfied: orjson>=3.10.1 in /usr/local/lib/python3.10/dist-packages (from langgraph-sdk<0.2.0,>=0.1.42->langgraph) (3.10.12)\n",
      "Requirement already satisfied: requests-toolbelt<2.0.0,>=1.0.0 in /usr/local/lib/python3.10/dist-packages (from langsmith<0.4,>=0.1.17->langchain) (1.0.0)\n",
      "Requirement already satisfied: mkl_fft in /usr/local/lib/python3.10/dist-packages (from numpy<3,>=1.26.2->langchain-community) (1.3.8)\n",
      "Requirement already satisfied: mkl_random in /usr/local/lib/python3.10/dist-packages (from numpy<3,>=1.26.2->langchain-community) (1.2.4)\n",
      "Requirement already satisfied: mkl_umath in /usr/local/lib/python3.10/dist-packages (from numpy<3,>=1.26.2->langchain-community) (0.1.1)\n",
      "Requirement already satisfied: mkl in /usr/local/lib/python3.10/dist-packages (from numpy<3,>=1.26.2->langchain-community) (2025.0.1)\n",
      "Requirement already satisfied: tbb4py in /usr/local/lib/python3.10/dist-packages (from numpy<3,>=1.26.2->langchain-community) (2022.0.0)\n",
      "Requirement already satisfied: mkl-service in /usr/local/lib/python3.10/dist-packages (from numpy<3,>=1.26.2->langchain-community) (2.4.1)\n",
      "Requirement already satisfied: anyio<5,>=3.5.0 in /usr/local/lib/python3.10/dist-packages (from openai<2.0.0,>=1.58.1->langchain-openai) (3.7.1)\n",
      "Requirement already satisfied: distro<2,>=1.7.0 in /usr/local/lib/python3.10/dist-packages (from openai<2.0.0,>=1.58.1->langchain-openai) (1.9.0)\n",
      "Requirement already satisfied: jiter<1,>=0.4.0 in /usr/local/lib/python3.10/dist-packages (from openai<2.0.0,>=1.58.1->langchain-openai) (0.8.2)\n",
      "Requirement already satisfied: sniffio in /usr/local/lib/python3.10/dist-packages (from openai<2.0.0,>=1.58.1->langchain-openai) (1.3.1)\n",
      "Requirement already satisfied: tqdm>4 in /usr/local/lib/python3.10/dist-packages (from openai<2.0.0,>=1.58.1->langchain-openai) (4.67.1)\n",
      "Requirement already satisfied: annotated-types>=0.6.0 in /usr/local/lib/python3.10/dist-packages (from pydantic<3.0.0,>=2.7.4->langchain) (0.7.0)\n",
      "Requirement already satisfied: pydantic-core==2.29.0 in /usr/local/lib/python3.10/dist-packages (from pydantic<3.0.0,>=2.7.4->langchain) (2.29.0)\n",
      "Collecting python-dotenv>=0.21.0 (from pydantic-settings<3.0.0,>=2.4.0->langchain-community)\n",
      "  Downloading python_dotenv-1.0.1-py3-none-any.whl.metadata (23 kB)\n",
      "Requirement already satisfied: urllib3>=1.26.0 in /usr/local/lib/python3.10/dist-packages (from python-arango>=7.4.1->arango-datasets) (2.3.0)\n",
      "Requirement already satisfied: PyJWT in /usr/local/lib/python3.10/dist-packages (from python-arango>=7.4.1->arango-datasets) (2.10.1)\n",
      "Requirement already satisfied: setuptools>=42 in /usr/local/lib/python3.10/dist-packages (from python-arango>=7.4.1->arango-datasets) (75.1.0)\n",
      "Requirement already satisfied: importlib_metadata>=4.7.1 in /usr/local/lib/python3.10/dist-packages (from python-arango>=7.4.1->arango-datasets) (8.5.0)\n",
      "Requirement already satisfied: charset-normalizer<4,>=2 in /usr/local/lib/python3.10/dist-packages (from requests<3,>=2->langchain) (3.4.1)\n",
      "Requirement already satisfied: idna<4,>=2.5 in /usr/local/lib/python3.10/dist-packages (from requests<3,>=2->langchain) (3.10)\n",
      "Requirement already satisfied: certifi>=2017.4.17 in /usr/local/lib/python3.10/dist-packages (from requests<3,>=2->langchain) (2025.1.31)\n",
      "Requirement already satisfied: markdown-it-py>=2.2.0 in /usr/local/lib/python3.10/dist-packages (from rich>=12.6.0->arango-datasets) (3.0.0)\n",
      "Requirement already satisfied: pygments<3.0.0,>=2.13.0 in /usr/local/lib/python3.10/dist-packages (from rich>=12.6.0->arango-datasets) (2.19.1)\n",
      "Requirement already satisfied: greenlet!=0.4.17 in /usr/local/lib/python3.10/dist-packages (from SQLAlchemy<3,>=1.4->langchain) (3.1.1)\n",
      "Requirement already satisfied: regex>=2022.1.18 in /usr/local/lib/python3.10/dist-packages (from tiktoken<1,>=0.7->langchain-openai) (2024.11.6)\n",
      "Requirement already satisfied: exceptiongroup in /usr/local/lib/python3.10/dist-packages (from anyio<5,>=3.5.0->openai<2.0.0,>=1.58.1->langchain-openai) (1.2.2)\n",
      "Requirement already satisfied: httpcore==1.* in /usr/local/lib/python3.10/dist-packages (from httpx>=0.25.2->langgraph-sdk<0.2.0,>=0.1.42->langgraph) (1.0.7)\n",
      "Requirement already satisfied: h11<0.15,>=0.13 in /usr/local/lib/python3.10/dist-packages (from httpcore==1.*->httpx>=0.25.2->langgraph-sdk<0.2.0,>=0.1.42->langgraph) (0.14.0)\n",
      "Requirement already satisfied: zipp>=3.20 in /usr/local/lib/python3.10/dist-packages (from importlib_metadata>=4.7.1->python-arango>=7.4.1->arango-datasets) (3.21.0)\n",
      "Requirement already satisfied: jsonpointer>=1.9 in /usr/local/lib/python3.10/dist-packages (from jsonpatch<2.0,>=1.33->langchain-core<1.0.0,>=0.3.41->langchain) (3.0.0)\n",
      "Requirement already satisfied: mdurl~=0.1 in /usr/local/lib/python3.10/dist-packages (from markdown-it-py>=2.2.0->rich>=12.6.0->arango-datasets) (0.1.2)\n",
      "Requirement already satisfied: mypy-extensions>=0.3.0 in /usr/local/lib/python3.10/dist-packages (from typing-inspect<1,>=0.4.0->dataclasses-json<0.7,>=0.5.7->langchain-community) (1.0.0)\n",
      "Requirement already satisfied: intel-openmp>=2024 in /usr/local/lib/python3.10/dist-packages (from mkl->numpy<3,>=1.26.2->langchain-community) (2024.2.0)\n",
      "Requirement already satisfied: tbb==2022.* in /usr/local/lib/python3.10/dist-packages (from mkl->numpy<3,>=1.26.2->langchain-community) (2022.0.0)\n",
      "Requirement already satisfied: tcmlib==1.* in /usr/local/lib/python3.10/dist-packages (from tbb==2022.*->mkl->numpy<3,>=1.26.2->langchain-community) (1.2.0)\n",
      "Requirement already satisfied: intel-cmplr-lib-rt in /usr/local/lib/python3.10/dist-packages (from mkl_umath->numpy<3,>=1.26.2->langchain-community) (2024.2.0)\n",
      "Requirement already satisfied: intel-cmplr-lib-ur==2024.2.0 in /usr/local/lib/python3.10/dist-packages (from intel-openmp>=2024->mkl->numpy<3,>=1.26.2->langchain-community) (2024.2.0)\n",
      "Downloading langchain-0.3.20-py3-none-any.whl (1.0 MB)\n",
      "\u001b[2K   \u001b[90m━━━━━━━━━━━━━━━━━━━━━━━━━━━━━━━━━━━━━━━━\u001b[0m \u001b[32m1.0/1.0 MB\u001b[0m \u001b[31m15.0 MB/s\u001b[0m eta \u001b[36m0:00:00\u001b[0ma \u001b[36m0:00:01\u001b[0m\n",
      "\u001b[?25hDownloading langchain_community-0.3.19-py3-none-any.whl (2.5 MB)\n",
      "\u001b[2K   \u001b[90m━━━━━━━━━━━━━━━━━━━━━━━━━━━━━━━━━━━━━━━━\u001b[0m \u001b[32m2.5/2.5 MB\u001b[0m \u001b[31m51.4 MB/s\u001b[0m eta \u001b[36m0:00:00\u001b[0m:00:01\u001b[0m\n",
      "\u001b[?25hDownloading langchain_openai-0.3.7-py3-none-any.whl (55 kB)\n",
      "\u001b[2K   \u001b[90m━━━━━━━━━━━━━━━━━━━━━━━━━━━━━━━━━━━━━━━━\u001b[0m \u001b[32m55.3/55.3 kB\u001b[0m \u001b[31m3.2 MB/s\u001b[0m eta \u001b[36m0:00:00\u001b[0m\n",
      "\u001b[?25hDownloading langgraph-0.3.5-py3-none-any.whl (131 kB)\n",
      "\u001b[2K   \u001b[90m━━━━━━━━━━━━━━━━━━━━━━━━━━━━━━━━━━━━━━━━\u001b[0m \u001b[32m131.5/131.5 kB\u001b[0m \u001b[31m7.8 MB/s\u001b[0m eta \u001b[36m0:00:00\u001b[0m\n",
      "\u001b[?25hDownloading arango_datasets-1.2.3-py3-none-any.whl (6.1 kB)\n",
      "Downloading kaleido-0.2.1-py2.py3-none-manylinux1_x86_64.whl (79.9 MB)\n",
      "\u001b[2K   \u001b[90m━━━━━━━━━━━━━━━━━━━━━━━━━━━━━━━━━━━━━━━━\u001b[0m \u001b[32m79.9/79.9 MB\u001b[0m \u001b[31m20.3 MB/s\u001b[0m eta \u001b[36m0:00:00\u001b[0m:00:01\u001b[0m00:01\u001b[0m\n",
      "\u001b[?25hDownloading async_timeout-4.0.3-py3-none-any.whl (5.7 kB)\n",
      "Downloading httpx_sse-0.4.0-py3-none-any.whl (7.8 kB)\n",
      "Downloading langchain_core-0.3.41-py3-none-any.whl (415 kB)\n",
      "\u001b[2K   \u001b[90m━━━━━━━━━━━━━━━━━━━━━━━━━━━━━━━━━━━━━━━━\u001b[0m \u001b[32m415.1/415.1 kB\u001b[0m \u001b[31m25.7 MB/s\u001b[0m eta \u001b[36m0:00:00\u001b[0m\n",
      "\u001b[?25hDownloading langchain_text_splitters-0.3.6-py3-none-any.whl (31 kB)\n",
      "Downloading langgraph_checkpoint-2.0.16-py3-none-any.whl (38 kB)\n",
      "Downloading langgraph_prebuilt-0.1.1-py3-none-any.whl (24 kB)\n",
      "Downloading langgraph_sdk-0.1.53-py3-none-any.whl (45 kB)\n",
      "\u001b[2K   \u001b[90m━━━━━━━━━━━━━━━━━━━━━━━━━━━━━━━━━━━━━━━━\u001b[0m \u001b[32m45.4/45.4 kB\u001b[0m \u001b[31m2.4 MB/s\u001b[0m eta \u001b[36m0:00:00\u001b[0m\n",
      "\u001b[?25hDownloading openai-1.65.3-py3-none-any.whl (472 kB)\n",
      "\u001b[2K   \u001b[90m━━━━━━━━━━━━━━━━━━━━━━━━━━━━━━━━━━━━━━━━\u001b[0m \u001b[32m472.8/472.8 kB\u001b[0m \u001b[31m21.0 MB/s\u001b[0m eta \u001b[36m0:00:00\u001b[0m\n",
      "\u001b[?25hDownloading pydantic_settings-2.8.1-py3-none-any.whl (30 kB)\n",
      "Downloading python_dotenv-1.0.1-py3-none-any.whl (19 kB)\n",
      "Installing collected packages: kaleido, python-dotenv, httpx-sse, async-timeout, pydantic-settings, openai, langgraph-sdk, langchain-core, arango-datasets, langgraph-checkpoint, langchain-text-splitters, langchain-openai, langgraph-prebuilt, langchain, langgraph, langchain-community\n",
      "  Attempting uninstall: async-timeout\n",
      "    Found existing installation: async-timeout 5.0.1\n",
      "    Uninstalling async-timeout-5.0.1:\n",
      "      Successfully uninstalled async-timeout-5.0.1\n",
      "  Attempting uninstall: openai\n",
      "    Found existing installation: openai 1.57.4\n",
      "    Uninstalling openai-1.57.4:\n",
      "      Successfully uninstalled openai-1.57.4\n",
      "  Attempting uninstall: langchain-core\n",
      "    Found existing installation: langchain-core 0.3.25\n",
      "    Uninstalling langchain-core-0.3.25:\n",
      "      Successfully uninstalled langchain-core-0.3.25\n",
      "  Attempting uninstall: langchain-text-splitters\n",
      "    Found existing installation: langchain-text-splitters 0.3.3\n",
      "    Uninstalling langchain-text-splitters-0.3.3:\n",
      "      Successfully uninstalled langchain-text-splitters-0.3.3\n",
      "  Attempting uninstall: langchain\n",
      "    Found existing installation: langchain 0.3.12\n",
      "    Uninstalling langchain-0.3.12:\n",
      "      Successfully uninstalled langchain-0.3.12\n",
      "\u001b[31mERROR: pip's dependency resolver does not currently take into account all the packages that are installed. This behaviour is the source of the following dependency conflicts.\n",
      "gcsfs 2024.10.0 requires fsspec==2024.10.0, but you have fsspec 2024.12.0 which is incompatible.\u001b[0m\u001b[31m\n",
      "\u001b[0mSuccessfully installed arango-datasets-1.2.3 async-timeout-4.0.3 httpx-sse-0.4.0 kaleido-0.2.1 langchain-0.3.20 langchain-community-0.3.19 langchain-core-0.3.41 langchain-openai-0.3.7 langchain-text-splitters-0.3.6 langgraph-0.3.5 langgraph-checkpoint-2.0.16 langgraph-prebuilt-0.1.1 langgraph-sdk-0.1.53 openai-1.65.3 pydantic-settings-2.8.1 python-dotenv-1.0.1\n"
     ]
    }
   ],
   "source": [
    "!pip install --upgrade langchain langchain-community langchain-openai langgraph arango-datasets kaleido"
   ]
  },
  {
   "cell_type": "code",
   "execution_count": 20,
   "metadata": {
    "execution": {
     "iopub.execute_input": "2025-03-05T20:32:40.858219Z",
     "iopub.status.busy": "2025-03-05T20:32:40.857755Z",
     "iopub.status.idle": "2025-03-05T20:32:40.864293Z",
     "shell.execute_reply": "2025-03-05T20:32:40.863258Z",
     "shell.execute_reply.started": "2025-03-05T20:32:40.858189Z"
    },
    "trusted": true
   },
   "outputs": [],
   "source": [
    "# 5. Import the required modules\n",
    "\n",
    "import networkx as nx\n",
    "import nx_arangodb as nxadb\n",
    "\n",
    "from arango import ArangoClient\n",
    "from arango_datasets import Datasets\n",
    "\n",
    "import pandas as pd\n",
    "import numpy as np\n",
    "import networkx as nx\n",
    "import matplotlib.pyplot as plt\n",
    "from random import randint\n",
    "import re\n",
    "import json\n",
    "import ipywidgets as widgets\n",
    "from IPython.display import clear_output, display, HTML\n",
    "\n",
    "\n",
    "\n",
    "from langgraph.prebuilt import create_react_agent\n",
    "from langgraph.checkpoint.memory import MemorySaver\n",
    "from langchain_openai import ChatOpenAI\n",
    "from langchain_community.graphs import ArangoGraph\n",
    "from langchain_community.chains.graph_qa.arangodb import ArangoGraphQAChain\n",
    "from langchain_core.tools import tool"
   ]
  },
  {
   "cell_type": "code",
   "execution_count": 6,
   "metadata": {
    "execution": {
     "iopub.execute_input": "2025-03-05T20:21:28.780172Z",
     "iopub.status.busy": "2025-03-05T20:21:28.779624Z",
     "iopub.status.idle": "2025-03-05T20:22:37.811926Z",
     "shell.execute_reply": "2025-03-05T20:22:37.811173Z",
     "shell.execute_reply.started": "2025-03-05T20:21:28.780147Z"
    },
    "trusted": true
   },
   "outputs": [
    {
     "data": {
      "application/vnd.jupyter.widget-view+json": {
       "model_id": "",
       "version_major": 2,
       "version_minor": 0
      },
      "text/plain": [
       "Output()"
      ]
     },
     "metadata": {},
     "output_type": "display_data"
    },
    {
     "data": {
      "text/html": [
       "<pre style=\"white-space:pre;overflow-x:auto;line-height:normal;font-family:Menlo,'DejaVu Sans Mono',consolas,'Courier New',monospace\"></pre>\n"
      ],
      "text/plain": []
     },
     "metadata": {},
     "output_type": "display_data"
    },
    {
     "data": {
      "application/vnd.jupyter.widget-view+json": {
       "model_id": "",
       "version_major": 2,
       "version_minor": 0
      },
      "text/plain": [
       "Output()"
      ]
     },
     "metadata": {},
     "output_type": "display_data"
    },
    {
     "name": "stdout",
     "output_type": "stream",
     "text": [
      "{'files': 41, 'edges': [{'collection_name': 'patients_to_immunizations', 'files': ['https://arangodb-dataset-library-ml.s3.amazonaws.com/synthea_p100/edge_collection/patients_to_immunizations_3b4a9f4c6bbd45611715467144fd2b4d.data.json']}, {'collection_name': 'patients_to_encounters', 'files': ['https://arangodb-dataset-library-ml.s3.amazonaws.com/synthea_p100/edge_collection/patients_to_encounters_4d7fa7310d65555f8eb9525490d7be94.data.json']}, {'collection_name': 'encounters_to_observations', 'files': ['https://arangodb-dataset-library-ml.s3.amazonaws.com/synthea_p100/edge_collection/encounters_to_observations_ebfd113faba7cad45697c58661cfff59.data.json']}, {'collection_name': 'patients_to_devices', 'files': ['https://arangodb-dataset-library-ml.s3.amazonaws.com/synthea_p100/edge_collection/patients_to_devices_2aba93faa39a1ff1c525fb26f6e2c737.data.json']}, {'collection_name': 'patients_to_imaging_studies', 'files': ['https://arangodb-dataset-library-ml.s3.amazonaws.com/synthea_p100/edge_collection/patients_to_imaging_studies_a9f4262b70e0f2d1c4f5289f864cb95e.data.json']}, {'collection_name': 'patients_to_allergies', 'files': ['https://arangodb-dataset-library-ml.s3.amazonaws.com/synthea_p100/edge_collection/patients_to_allergies_0f827556b3787e68808b2c01c8c05103.data.json']}, {'collection_name': 'payers_to_encounters', 'files': ['https://arangodb-dataset-library-ml.s3.amazonaws.com/synthea_p100/edge_collection/payers_to_encounters_d168013500681cb58f198c1254041bc7.data.json']}, {'collection_name': 'encounters_to_medications', 'files': ['https://arangodb-dataset-library-ml.s3.amazonaws.com/synthea_p100/edge_collection/encounters_to_medications_944f8f9b195939cc4a9c5e6c74cf91ff.data.json']}, {'collection_name': 'patients_to_careplans', 'files': ['https://arangodb-dataset-library-ml.s3.amazonaws.com/synthea_p100/edge_collection/patients_to_careplans_cdccba64d4d79af185b72a5a41629798.data.json']}, {'collection_name': 'patients_to_observations', 'files': ['https://arangodb-dataset-library-ml.s3.amazonaws.com/synthea_p100/edge_collection/patients_to_observations_815ef5ba860c14f15b1732dd3f774398.data.json']}, {'collection_name': 'organizations_to_encounters', 'files': ['https://arangodb-dataset-library-ml.s3.amazonaws.com/synthea_p100/edge_collection/organizations_to_encounters_234c9cec5832a47d18569d584d888a28.data.json']}, {'collection_name': 'payers_to_medications', 'files': ['https://arangodb-dataset-library-ml.s3.amazonaws.com/synthea_p100/edge_collection/payers_to_medications_aec6690eb204db2ff39ada550223ead9.data.json']}, {'collection_name': 'encounters_to_careplans', 'files': ['https://arangodb-dataset-library-ml.s3.amazonaws.com/synthea_p100/edge_collection/encounters_to_careplans_69f1ebf4dd3863cbdab94eaa48a503cf.data.json']}, {'collection_name': 'encounters_to_supplies', 'files': ['https://arangodb-dataset-library-ml.s3.amazonaws.com/synthea_p100/edge_collection/encounters_to_supplies_9cff31a163a263aeed0abc6abbc17d5c.data.json']}, {'collection_name': 'providers_to_encounters', 'files': ['https://arangodb-dataset-library-ml.s3.amazonaws.com/synthea_p100/edge_collection/providers_to_encounters_5f985a7c03296c00bb337df43765e170.data.json']}, {'collection_name': 'encounters_to_allergies', 'files': ['https://arangodb-dataset-library-ml.s3.amazonaws.com/synthea_p100/edge_collection/encounters_to_allergies_748c8a8fa5f899a58f0303b7c98d185f.data.json']}, {'collection_name': 'organizations_to_providers', 'files': ['https://arangodb-dataset-library-ml.s3.amazonaws.com/synthea_p100/edge_collection/organizations_to_providers_c7e130819bcb471e59c69e186cec2b95.data.json']}, {'collection_name': 'encounters_to_immunizations', 'files': ['https://arangodb-dataset-library-ml.s3.amazonaws.com/synthea_p100/edge_collection/encounters_to_immunizations_f26c8b834f9b8646e9f262919cf91fa2.data.json']}, {'collection_name': 'encounters_to_conditions', 'files': ['https://arangodb-dataset-library-ml.s3.amazonaws.com/synthea_p100/edge_collection/encounters_to_conditions_586c98a1751bf56b2d6fd13f028c90ac.data.json']}, {'collection_name': 'patients_to_procedures', 'files': ['https://arangodb-dataset-library-ml.s3.amazonaws.com/synthea_p100/edge_collection/patients_to_procedures_ff56e344b9e9a64056dd4d4a8c1d5c78.data.json']}, {'collection_name': 'patients_to_conditions', 'files': ['https://arangodb-dataset-library-ml.s3.amazonaws.com/synthea_p100/edge_collection/patients_to_conditions_a9d75e31a814f611b70ca1f88ef20c17.data.json']}, {'collection_name': 'encounters_to_devices', 'files': ['https://arangodb-dataset-library-ml.s3.amazonaws.com/synthea_p100/edge_collection/encounters_to_devices_a841907e098433d14a7b48e4b0525bf7.data.json']}, {'collection_name': 'patients_to_supplies', 'files': ['https://arangodb-dataset-library-ml.s3.amazonaws.com/synthea_p100/edge_collection/patients_to_supplies_3024e8a2b965b18663731944441154df.data.json']}, {'collection_name': 'encounters_to_procedures', 'files': ['https://arangodb-dataset-library-ml.s3.amazonaws.com/synthea_p100/edge_collection/encounters_to_procedures_d583c0f8fc5ea14d3fdb0abec694b175.data.json']}, {'collection_name': 'patients_to_medications', 'files': ['https://arangodb-dataset-library-ml.s3.amazonaws.com/synthea_p100/edge_collection/patients_to_medications_a5a78867f3dbe02223fb17dc428bdebc.data.json']}, {'collection_name': 'encounters_to_imaging_studies', 'files': ['https://arangodb-dataset-library-ml.s3.amazonaws.com/synthea_p100/edge_collection/encounters_to_imaging_studies_319dedb02e1100ae3c5f7663f1ffd7d6.data.json']}], 'vertices': [{'collection_name': 'patients', 'files': ['https://arangodb-dataset-library-ml.s3.amazonaws.com/synthea_p100/vertex_collection/patients_3495d5d84b3bedeb4377cfc005bfbe52.data.json']}, {'collection_name': 'allergies', 'files': ['https://arangodb-dataset-library-ml.s3.amazonaws.com/synthea_p100/vertex_collection/allergies_2c527dd68e63f119442f4352f2a0b950.data.json']}, {'collection_name': 'conditions', 'files': ['https://arangodb-dataset-library-ml.s3.amazonaws.com/synthea_p100/vertex_collection/conditions_b5b399ec1fcfe753f58dbafa197efdc1.data.json']}, {'collection_name': 'supplies', 'files': ['https://arangodb-dataset-library-ml.s3.amazonaws.com/synthea_p100/vertex_collection/supplies_1cefa3fef5bc90707d492007b796739b.data.json']}, {'collection_name': 'observations', 'files': ['https://arangodb-dataset-library-ml.s3.amazonaws.com/synthea_p100/vertex_collection/observations_b4120c940fffff695d925df1eaefd399.data.json']}, {'collection_name': 'immunizations', 'files': ['https://arangodb-dataset-library-ml.s3.amazonaws.com/synthea_p100/vertex_collection/immunizations_59dc2a16a7e9f1ff83c75619f65b2896.data.json']}, {'collection_name': 'devices', 'files': ['https://arangodb-dataset-library-ml.s3.amazonaws.com/synthea_p100/vertex_collection/devices_e0212e54ec3a2a120ca0d321b3a60c78.data.json']}, {'collection_name': 'medications', 'files': ['https://arangodb-dataset-library-ml.s3.amazonaws.com/synthea_p100/vertex_collection/medications_25fd8b1fe4e40cd00c37bdd33be3d908.data.json']}, {'collection_name': 'providers', 'files': ['https://arangodb-dataset-library-ml.s3.amazonaws.com/synthea_p100/vertex_collection/providers_29d247ee74c64366386d8d549c17162d.data.json']}, {'collection_name': 'payers', 'files': ['https://arangodb-dataset-library-ml.s3.amazonaws.com/synthea_p100/vertex_collection/payers_07e4c7307e9f347f1987f158e21d9d0f.data.json']}, {'collection_name': 'encounters', 'files': ['https://arangodb-dataset-library-ml.s3.amazonaws.com/synthea_p100/vertex_collection/encounters_11d091fe28b9a60560735f660bbed080.data.json']}, {'collection_name': 'imaging_studies', 'files': ['https://arangodb-dataset-library-ml.s3.amazonaws.com/synthea_p100/vertex_collection/imaging_studies_907f20a1347ca7a4bb5f2da785199bd7.data.json']}, {'collection_name': 'organizations', 'files': ['https://arangodb-dataset-library-ml.s3.amazonaws.com/synthea_p100/vertex_collection/organizations_d9811f03b461a380c0d6b4a497dbac37.data.json']}, {'collection_name': 'procedures', 'files': ['https://arangodb-dataset-library-ml.s3.amazonaws.com/synthea_p100/vertex_collection/procedures_c06924df8f6a6a11232e3ae804ce2bb3.data.json']}, {'collection_name': 'careplans', 'files': ['https://arangodb-dataset-library-ml.s3.amazonaws.com/synthea_p100/vertex_collection/careplans_16dfe89ae1039088f12e88babc624e45.data.json']}], 'file_type': 'jsonl', 'label': 'SYNTHEA_P100', 'edge_definitions': [{'edge_collection': 'patients_to_immunizations', 'from_vertex_collections': ['patients'], 'to_vertex_collections': ['immunizations']}, {'edge_collection': 'patients_to_encounters', 'from_vertex_collections': ['patients'], 'to_vertex_collections': ['encounters']}, {'edge_collection': 'encounters_to_observations', 'from_vertex_collections': ['encounters'], 'to_vertex_collections': ['observations']}, {'edge_collection': 'patients_to_devices', 'from_vertex_collections': ['patients'], 'to_vertex_collections': ['devices']}, {'edge_collection': 'patients_to_imaging_studies', 'from_vertex_collections': ['patients'], 'to_vertex_collections': ['imaging_studies']}, {'edge_collection': 'patients_to_allergies', 'from_vertex_collections': ['patients'], 'to_vertex_collections': ['allergies']}, {'edge_collection': 'payers_to_encounters', 'from_vertex_collections': ['payers'], 'to_vertex_collections': ['encounters']}, {'edge_collection': 'encounters_to_medications', 'from_vertex_collections': ['encounters'], 'to_vertex_collections': ['medications']}, {'edge_collection': 'patients_to_careplans', 'from_vertex_collections': ['patients'], 'to_vertex_collections': ['careplans']}, {'edge_collection': 'patients_to_observations', 'from_vertex_collections': ['patients'], 'to_vertex_collections': ['observations']}, {'edge_collection': 'organizations_to_encounters', 'from_vertex_collections': ['organizations'], 'to_vertex_collections': ['encounters']}, {'edge_collection': 'payers_to_medications', 'from_vertex_collections': ['payers'], 'to_vertex_collections': ['medications']}, {'edge_collection': 'encounters_to_careplans', 'from_vertex_collections': ['encounters'], 'to_vertex_collections': ['careplans']}, {'edge_collection': 'encounters_to_supplies', 'from_vertex_collections': ['encounters'], 'to_vertex_collections': ['supplies']}, {'edge_collection': 'providers_to_encounters', 'from_vertex_collections': ['providers'], 'to_vertex_collections': ['encounters']}, {'edge_collection': 'encounters_to_allergies', 'from_vertex_collections': ['encounters'], 'to_vertex_collections': ['allergies']}, {'edge_collection': 'organizations_to_providers', 'from_vertex_collections': ['organizations'], 'to_vertex_collections': ['providers']}, {'edge_collection': 'encounters_to_immunizations', 'from_vertex_collections': ['encounters'], 'to_vertex_collections': ['immunizations']}, {'edge_collection': 'encounters_to_conditions', 'from_vertex_collections': ['encounters'], 'to_vertex_collections': ['conditions']}, {'edge_collection': 'patients_to_procedures', 'from_vertex_collections': ['patients'], 'to_vertex_collections': ['procedures']}, {'edge_collection': 'patients_to_conditions', 'from_vertex_collections': ['patients'], 'to_vertex_collections': ['conditions']}, {'edge_collection': 'encounters_to_devices', 'from_vertex_collections': ['encounters'], 'to_vertex_collections': ['devices']}, {'edge_collection': 'patients_to_supplies', 'from_vertex_collections': ['patients'], 'to_vertex_collections': ['supplies']}, {'edge_collection': 'encounters_to_procedures', 'from_vertex_collections': ['encounters'], 'to_vertex_collections': ['procedures']}, {'edge_collection': 'patients_to_medications', 'from_vertex_collections': ['patients'], 'to_vertex_collections': ['medications']}, {'edge_collection': 'encounters_to_imaging_studies', 'from_vertex_collections': ['encounters'], 'to_vertex_collections': ['imaging_studies']}]}\n",
      "Initializing collection 'patients'\n"
     ]
    },
    {
     "data": {
      "text/html": [
       "<pre style=\"white-space:pre;overflow-x:auto;line-height:normal;font-family:Menlo,'DejaVu Sans Mono',consolas,'Courier New',monospace\"></pre>\n"
      ],
      "text/plain": []
     },
     "metadata": {},
     "output_type": "display_data"
    },
    {
     "data": {
      "application/vnd.jupyter.widget-view+json": {
       "model_id": "",
       "version_major": 2,
       "version_minor": 0
      },
      "text/plain": [
       "Output()"
      ]
     },
     "metadata": {},
     "output_type": "display_data"
    },
    {
     "data": {
      "text/html": [
       "<pre style=\"white-space:pre;overflow-x:auto;line-height:normal;font-family:Menlo,'DejaVu Sans Mono',consolas,'Courier New',monospace\"></pre>\n"
      ],
      "text/plain": []
     },
     "metadata": {},
     "output_type": "display_data"
    },
    {
     "data": {
      "application/vnd.jupyter.widget-view+json": {
       "model_id": "",
       "version_major": 2,
       "version_minor": 0
      },
      "text/plain": [
       "Output()"
      ]
     },
     "metadata": {},
     "output_type": "display_data"
    },
    {
     "name": "stdout",
     "output_type": "stream",
     "text": [
      "Initializing collection 'allergies'\n"
     ]
    },
    {
     "data": {
      "text/html": [
       "<pre style=\"white-space:pre;overflow-x:auto;line-height:normal;font-family:Menlo,'DejaVu Sans Mono',consolas,'Courier New',monospace\"></pre>\n"
      ],
      "text/plain": []
     },
     "metadata": {},
     "output_type": "display_data"
    },
    {
     "data": {
      "application/vnd.jupyter.widget-view+json": {
       "model_id": "",
       "version_major": 2,
       "version_minor": 0
      },
      "text/plain": [
       "Output()"
      ]
     },
     "metadata": {},
     "output_type": "display_data"
    },
    {
     "data": {
      "text/html": [
       "<pre style=\"white-space:pre;overflow-x:auto;line-height:normal;font-family:Menlo,'DejaVu Sans Mono',consolas,'Courier New',monospace\"></pre>\n"
      ],
      "text/plain": []
     },
     "metadata": {},
     "output_type": "display_data"
    },
    {
     "data": {
      "application/vnd.jupyter.widget-view+json": {
       "model_id": "",
       "version_major": 2,
       "version_minor": 0
      },
      "text/plain": [
       "Output()"
      ]
     },
     "metadata": {},
     "output_type": "display_data"
    },
    {
     "name": "stdout",
     "output_type": "stream",
     "text": [
      "Initializing collection 'conditions'\n"
     ]
    },
    {
     "data": {
      "text/html": [
       "<pre style=\"white-space:pre;overflow-x:auto;line-height:normal;font-family:Menlo,'DejaVu Sans Mono',consolas,'Courier New',monospace\"></pre>\n"
      ],
      "text/plain": []
     },
     "metadata": {},
     "output_type": "display_data"
    },
    {
     "data": {
      "application/vnd.jupyter.widget-view+json": {
       "model_id": "",
       "version_major": 2,
       "version_minor": 0
      },
      "text/plain": [
       "Output()"
      ]
     },
     "metadata": {},
     "output_type": "display_data"
    },
    {
     "data": {
      "text/html": [
       "<pre style=\"white-space:pre;overflow-x:auto;line-height:normal;font-family:Menlo,'DejaVu Sans Mono',consolas,'Courier New',monospace\"></pre>\n"
      ],
      "text/plain": []
     },
     "metadata": {},
     "output_type": "display_data"
    },
    {
     "data": {
      "application/vnd.jupyter.widget-view+json": {
       "model_id": "",
       "version_major": 2,
       "version_minor": 0
      },
      "text/plain": [
       "Output()"
      ]
     },
     "metadata": {},
     "output_type": "display_data"
    },
    {
     "name": "stdout",
     "output_type": "stream",
     "text": [
      "Initializing collection 'supplies'\n"
     ]
    },
    {
     "data": {
      "text/html": [
       "<pre style=\"white-space:pre;overflow-x:auto;line-height:normal;font-family:Menlo,'DejaVu Sans Mono',consolas,'Courier New',monospace\"></pre>\n"
      ],
      "text/plain": []
     },
     "metadata": {},
     "output_type": "display_data"
    },
    {
     "data": {
      "application/vnd.jupyter.widget-view+json": {
       "model_id": "",
       "version_major": 2,
       "version_minor": 0
      },
      "text/plain": [
       "Output()"
      ]
     },
     "metadata": {},
     "output_type": "display_data"
    },
    {
     "data": {
      "text/html": [
       "<pre style=\"white-space:pre;overflow-x:auto;line-height:normal;font-family:Menlo,'DejaVu Sans Mono',consolas,'Courier New',monospace\"></pre>\n"
      ],
      "text/plain": []
     },
     "metadata": {},
     "output_type": "display_data"
    },
    {
     "data": {
      "application/vnd.jupyter.widget-view+json": {
       "model_id": "",
       "version_major": 2,
       "version_minor": 0
      },
      "text/plain": [
       "Output()"
      ]
     },
     "metadata": {},
     "output_type": "display_data"
    },
    {
     "name": "stdout",
     "output_type": "stream",
     "text": [
      "Initializing collection 'observations'\n"
     ]
    },
    {
     "data": {
      "text/html": [
       "<pre style=\"white-space:pre;overflow-x:auto;line-height:normal;font-family:Menlo,'DejaVu Sans Mono',consolas,'Courier New',monospace\"></pre>\n"
      ],
      "text/plain": []
     },
     "metadata": {},
     "output_type": "display_data"
    },
    {
     "data": {
      "application/vnd.jupyter.widget-view+json": {
       "model_id": "",
       "version_major": 2,
       "version_minor": 0
      },
      "text/plain": [
       "Output()"
      ]
     },
     "metadata": {},
     "output_type": "display_data"
    },
    {
     "data": {
      "text/html": [
       "<pre style=\"white-space:pre;overflow-x:auto;line-height:normal;font-family:Menlo,'DejaVu Sans Mono',consolas,'Courier New',monospace\"></pre>\n"
      ],
      "text/plain": []
     },
     "metadata": {},
     "output_type": "display_data"
    },
    {
     "data": {
      "application/vnd.jupyter.widget-view+json": {
       "model_id": "",
       "version_major": 2,
       "version_minor": 0
      },
      "text/plain": [
       "Output()"
      ]
     },
     "metadata": {},
     "output_type": "display_data"
    },
    {
     "name": "stdout",
     "output_type": "stream",
     "text": [
      "Initializing collection 'immunizations'\n"
     ]
    },
    {
     "data": {
      "text/html": [
       "<pre style=\"white-space:pre;overflow-x:auto;line-height:normal;font-family:Menlo,'DejaVu Sans Mono',consolas,'Courier New',monospace\"></pre>\n"
      ],
      "text/plain": []
     },
     "metadata": {},
     "output_type": "display_data"
    },
    {
     "data": {
      "application/vnd.jupyter.widget-view+json": {
       "model_id": "",
       "version_major": 2,
       "version_minor": 0
      },
      "text/plain": [
       "Output()"
      ]
     },
     "metadata": {},
     "output_type": "display_data"
    },
    {
     "data": {
      "text/html": [
       "<pre style=\"white-space:pre;overflow-x:auto;line-height:normal;font-family:Menlo,'DejaVu Sans Mono',consolas,'Courier New',monospace\"></pre>\n"
      ],
      "text/plain": []
     },
     "metadata": {},
     "output_type": "display_data"
    },
    {
     "data": {
      "application/vnd.jupyter.widget-view+json": {
       "model_id": "",
       "version_major": 2,
       "version_minor": 0
      },
      "text/plain": [
       "Output()"
      ]
     },
     "metadata": {},
     "output_type": "display_data"
    },
    {
     "name": "stdout",
     "output_type": "stream",
     "text": [
      "Initializing collection 'devices'\n"
     ]
    },
    {
     "data": {
      "text/html": [
       "<pre style=\"white-space:pre;overflow-x:auto;line-height:normal;font-family:Menlo,'DejaVu Sans Mono',consolas,'Courier New',monospace\"></pre>\n"
      ],
      "text/plain": []
     },
     "metadata": {},
     "output_type": "display_data"
    },
    {
     "data": {
      "application/vnd.jupyter.widget-view+json": {
       "model_id": "",
       "version_major": 2,
       "version_minor": 0
      },
      "text/plain": [
       "Output()"
      ]
     },
     "metadata": {},
     "output_type": "display_data"
    },
    {
     "data": {
      "text/html": [
       "<pre style=\"white-space:pre;overflow-x:auto;line-height:normal;font-family:Menlo,'DejaVu Sans Mono',consolas,'Courier New',monospace\"></pre>\n"
      ],
      "text/plain": []
     },
     "metadata": {},
     "output_type": "display_data"
    },
    {
     "data": {
      "application/vnd.jupyter.widget-view+json": {
       "model_id": "",
       "version_major": 2,
       "version_minor": 0
      },
      "text/plain": [
       "Output()"
      ]
     },
     "metadata": {},
     "output_type": "display_data"
    },
    {
     "name": "stdout",
     "output_type": "stream",
     "text": [
      "Initializing collection 'medications'\n"
     ]
    },
    {
     "data": {
      "text/html": [
       "<pre style=\"white-space:pre;overflow-x:auto;line-height:normal;font-family:Menlo,'DejaVu Sans Mono',consolas,'Courier New',monospace\"></pre>\n"
      ],
      "text/plain": []
     },
     "metadata": {},
     "output_type": "display_data"
    },
    {
     "data": {
      "application/vnd.jupyter.widget-view+json": {
       "model_id": "",
       "version_major": 2,
       "version_minor": 0
      },
      "text/plain": [
       "Output()"
      ]
     },
     "metadata": {},
     "output_type": "display_data"
    },
    {
     "data": {
      "text/html": [
       "<pre style=\"white-space:pre;overflow-x:auto;line-height:normal;font-family:Menlo,'DejaVu Sans Mono',consolas,'Courier New',monospace\"></pre>\n"
      ],
      "text/plain": []
     },
     "metadata": {},
     "output_type": "display_data"
    },
    {
     "data": {
      "application/vnd.jupyter.widget-view+json": {
       "model_id": "",
       "version_major": 2,
       "version_minor": 0
      },
      "text/plain": [
       "Output()"
      ]
     },
     "metadata": {},
     "output_type": "display_data"
    },
    {
     "name": "stdout",
     "output_type": "stream",
     "text": [
      "Initializing collection 'providers'\n"
     ]
    },
    {
     "data": {
      "text/html": [
       "<pre style=\"white-space:pre;overflow-x:auto;line-height:normal;font-family:Menlo,'DejaVu Sans Mono',consolas,'Courier New',monospace\"></pre>\n"
      ],
      "text/plain": []
     },
     "metadata": {},
     "output_type": "display_data"
    },
    {
     "data": {
      "application/vnd.jupyter.widget-view+json": {
       "model_id": "",
       "version_major": 2,
       "version_minor": 0
      },
      "text/plain": [
       "Output()"
      ]
     },
     "metadata": {},
     "output_type": "display_data"
    },
    {
     "data": {
      "text/html": [
       "<pre style=\"white-space:pre;overflow-x:auto;line-height:normal;font-family:Menlo,'DejaVu Sans Mono',consolas,'Courier New',monospace\"></pre>\n"
      ],
      "text/plain": []
     },
     "metadata": {},
     "output_type": "display_data"
    },
    {
     "data": {
      "application/vnd.jupyter.widget-view+json": {
       "model_id": "",
       "version_major": 2,
       "version_minor": 0
      },
      "text/plain": [
       "Output()"
      ]
     },
     "metadata": {},
     "output_type": "display_data"
    },
    {
     "name": "stdout",
     "output_type": "stream",
     "text": [
      "Initializing collection 'payers'\n"
     ]
    },
    {
     "data": {
      "text/html": [
       "<pre style=\"white-space:pre;overflow-x:auto;line-height:normal;font-family:Menlo,'DejaVu Sans Mono',consolas,'Courier New',monospace\"></pre>\n"
      ],
      "text/plain": []
     },
     "metadata": {},
     "output_type": "display_data"
    },
    {
     "data": {
      "application/vnd.jupyter.widget-view+json": {
       "model_id": "4079a2093d754432b872057857d87297",
       "version_major": 2,
       "version_minor": 0
      },
      "text/plain": [
       "Output()"
      ]
     },
     "metadata": {},
     "output_type": "display_data"
    },
    {
     "data": {
      "text/html": [
       "<pre style=\"white-space:pre;overflow-x:auto;line-height:normal;font-family:Menlo,'DejaVu Sans Mono',consolas,'Courier New',monospace\"></pre>\n"
      ],
      "text/plain": []
     },
     "metadata": {},
     "output_type": "display_data"
    },
    {
     "data": {
      "application/vnd.jupyter.widget-view+json": {
       "model_id": "260797e0535947a5ae5bdf09a3a57f76",
       "version_major": 2,
       "version_minor": 0
      },
      "text/plain": [
       "Output()"
      ]
     },
     "metadata": {},
     "output_type": "display_data"
    },
    {
     "name": "stdout",
     "output_type": "stream",
     "text": [
      "Initializing collection 'encounters'\n"
     ]
    },
    {
     "data": {
      "text/html": [
       "<pre style=\"white-space:pre;overflow-x:auto;line-height:normal;font-family:Menlo,'DejaVu Sans Mono',consolas,'Courier New',monospace\"></pre>\n"
      ],
      "text/plain": []
     },
     "metadata": {},
     "output_type": "display_data"
    },
    {
     "data": {
      "application/vnd.jupyter.widget-view+json": {
       "model_id": "c049f809a0fa4e718a7b10af4f3ffc67",
       "version_major": 2,
       "version_minor": 0
      },
      "text/plain": [
       "Output()"
      ]
     },
     "metadata": {},
     "output_type": "display_data"
    },
    {
     "data": {
      "text/html": [
       "<pre style=\"white-space:pre;overflow-x:auto;line-height:normal;font-family:Menlo,'DejaVu Sans Mono',consolas,'Courier New',monospace\"></pre>\n"
      ],
      "text/plain": []
     },
     "metadata": {},
     "output_type": "display_data"
    },
    {
     "data": {
      "application/vnd.jupyter.widget-view+json": {
       "model_id": "09dc9fa8497c4e23bd3d3f2b3194106e",
       "version_major": 2,
       "version_minor": 0
      },
      "text/plain": [
       "Output()"
      ]
     },
     "metadata": {},
     "output_type": "display_data"
    },
    {
     "name": "stdout",
     "output_type": "stream",
     "text": [
      "Initializing collection 'imaging_studies'\n"
     ]
    },
    {
     "data": {
      "text/html": [
       "<pre style=\"white-space:pre;overflow-x:auto;line-height:normal;font-family:Menlo,'DejaVu Sans Mono',consolas,'Courier New',monospace\"></pre>\n"
      ],
      "text/plain": []
     },
     "metadata": {},
     "output_type": "display_data"
    },
    {
     "data": {
      "application/vnd.jupyter.widget-view+json": {
       "model_id": "ba938ed4be394b298ef3a192c2a86e1a",
       "version_major": 2,
       "version_minor": 0
      },
      "text/plain": [
       "Output()"
      ]
     },
     "metadata": {},
     "output_type": "display_data"
    },
    {
     "data": {
      "text/html": [
       "<pre style=\"white-space:pre;overflow-x:auto;line-height:normal;font-family:Menlo,'DejaVu Sans Mono',consolas,'Courier New',monospace\"></pre>\n"
      ],
      "text/plain": []
     },
     "metadata": {},
     "output_type": "display_data"
    },
    {
     "data": {
      "application/vnd.jupyter.widget-view+json": {
       "model_id": "5d43f1f8c7eb458e80236be00e1c08f6",
       "version_major": 2,
       "version_minor": 0
      },
      "text/plain": [
       "Output()"
      ]
     },
     "metadata": {},
     "output_type": "display_data"
    },
    {
     "name": "stdout",
     "output_type": "stream",
     "text": [
      "Initializing collection 'organizations'\n"
     ]
    },
    {
     "data": {
      "text/html": [
       "<pre style=\"white-space:pre;overflow-x:auto;line-height:normal;font-family:Menlo,'DejaVu Sans Mono',consolas,'Courier New',monospace\"></pre>\n"
      ],
      "text/plain": []
     },
     "metadata": {},
     "output_type": "display_data"
    },
    {
     "data": {
      "application/vnd.jupyter.widget-view+json": {
       "model_id": "0a06b6026ba94dd8bc42d884ebbb7fad",
       "version_major": 2,
       "version_minor": 0
      },
      "text/plain": [
       "Output()"
      ]
     },
     "metadata": {},
     "output_type": "display_data"
    },
    {
     "data": {
      "text/html": [
       "<pre style=\"white-space:pre;overflow-x:auto;line-height:normal;font-family:Menlo,'DejaVu Sans Mono',consolas,'Courier New',monospace\"></pre>\n"
      ],
      "text/plain": []
     },
     "metadata": {},
     "output_type": "display_data"
    },
    {
     "data": {
      "application/vnd.jupyter.widget-view+json": {
       "model_id": "a50ca26d232a43209fe73d2cc8e334e6",
       "version_major": 2,
       "version_minor": 0
      },
      "text/plain": [
       "Output()"
      ]
     },
     "metadata": {},
     "output_type": "display_data"
    },
    {
     "name": "stdout",
     "output_type": "stream",
     "text": [
      "Initializing collection 'procedures'\n"
     ]
    },
    {
     "data": {
      "text/html": [
       "<pre style=\"white-space:pre;overflow-x:auto;line-height:normal;font-family:Menlo,'DejaVu Sans Mono',consolas,'Courier New',monospace\"></pre>\n"
      ],
      "text/plain": []
     },
     "metadata": {},
     "output_type": "display_data"
    },
    {
     "data": {
      "application/vnd.jupyter.widget-view+json": {
       "model_id": "a8c06faaac764bdd8a10e42fa9111bb2",
       "version_major": 2,
       "version_minor": 0
      },
      "text/plain": [
       "Output()"
      ]
     },
     "metadata": {},
     "output_type": "display_data"
    },
    {
     "data": {
      "text/html": [
       "<pre style=\"white-space:pre;overflow-x:auto;line-height:normal;font-family:Menlo,'DejaVu Sans Mono',consolas,'Courier New',monospace\"></pre>\n"
      ],
      "text/plain": []
     },
     "metadata": {},
     "output_type": "display_data"
    },
    {
     "data": {
      "application/vnd.jupyter.widget-view+json": {
       "model_id": "b3bf77921d3d4e9091fc2554f5f56188",
       "version_major": 2,
       "version_minor": 0
      },
      "text/plain": [
       "Output()"
      ]
     },
     "metadata": {},
     "output_type": "display_data"
    },
    {
     "name": "stdout",
     "output_type": "stream",
     "text": [
      "Initializing collection 'careplans'\n"
     ]
    },
    {
     "data": {
      "text/html": [
       "<pre style=\"white-space:pre;overflow-x:auto;line-height:normal;font-family:Menlo,'DejaVu Sans Mono',consolas,'Courier New',monospace\"></pre>\n"
      ],
      "text/plain": []
     },
     "metadata": {},
     "output_type": "display_data"
    },
    {
     "data": {
      "application/vnd.jupyter.widget-view+json": {
       "model_id": "c7801554924e473d976f241132971344",
       "version_major": 2,
       "version_minor": 0
      },
      "text/plain": [
       "Output()"
      ]
     },
     "metadata": {},
     "output_type": "display_data"
    },
    {
     "data": {
      "text/html": [
       "<pre style=\"white-space:pre;overflow-x:auto;line-height:normal;font-family:Menlo,'DejaVu Sans Mono',consolas,'Courier New',monospace\"></pre>\n"
      ],
      "text/plain": []
     },
     "metadata": {},
     "output_type": "display_data"
    },
    {
     "data": {
      "application/vnd.jupyter.widget-view+json": {
       "model_id": "4bb7150139af4d67a34b6d14f790d465",
       "version_major": 2,
       "version_minor": 0
      },
      "text/plain": [
       "Output()"
      ]
     },
     "metadata": {},
     "output_type": "display_data"
    },
    {
     "name": "stdout",
     "output_type": "stream",
     "text": [
      "Initializing collection 'patients_to_immunizations'\n"
     ]
    },
    {
     "data": {
      "text/html": [
       "<pre style=\"white-space:pre;overflow-x:auto;line-height:normal;font-family:Menlo,'DejaVu Sans Mono',consolas,'Courier New',monospace\"></pre>\n"
      ],
      "text/plain": []
     },
     "metadata": {},
     "output_type": "display_data"
    },
    {
     "data": {
      "application/vnd.jupyter.widget-view+json": {
       "model_id": "beff91251ef745089c1171b970810989",
       "version_major": 2,
       "version_minor": 0
      },
      "text/plain": [
       "Output()"
      ]
     },
     "metadata": {},
     "output_type": "display_data"
    },
    {
     "data": {
      "text/html": [
       "<pre style=\"white-space:pre;overflow-x:auto;line-height:normal;font-family:Menlo,'DejaVu Sans Mono',consolas,'Courier New',monospace\"></pre>\n"
      ],
      "text/plain": []
     },
     "metadata": {},
     "output_type": "display_data"
    },
    {
     "data": {
      "application/vnd.jupyter.widget-view+json": {
       "model_id": "dc3c6d041c49438493e89cd87cb6c49d",
       "version_major": 2,
       "version_minor": 0
      },
      "text/plain": [
       "Output()"
      ]
     },
     "metadata": {},
     "output_type": "display_data"
    },
    {
     "name": "stdout",
     "output_type": "stream",
     "text": [
      "Initializing collection 'patients_to_encounters'\n"
     ]
    },
    {
     "data": {
      "text/html": [
       "<pre style=\"white-space:pre;overflow-x:auto;line-height:normal;font-family:Menlo,'DejaVu Sans Mono',consolas,'Courier New',monospace\"></pre>\n"
      ],
      "text/plain": []
     },
     "metadata": {},
     "output_type": "display_data"
    },
    {
     "data": {
      "application/vnd.jupyter.widget-view+json": {
       "model_id": "b8ec2a8ae3d84567b82bcd7dc361f4d8",
       "version_major": 2,
       "version_minor": 0
      },
      "text/plain": [
       "Output()"
      ]
     },
     "metadata": {},
     "output_type": "display_data"
    },
    {
     "data": {
      "text/html": [
       "<pre style=\"white-space:pre;overflow-x:auto;line-height:normal;font-family:Menlo,'DejaVu Sans Mono',consolas,'Courier New',monospace\"></pre>\n"
      ],
      "text/plain": []
     },
     "metadata": {},
     "output_type": "display_data"
    },
    {
     "data": {
      "application/vnd.jupyter.widget-view+json": {
       "model_id": "006b3517956c46b58566db34c0de968a",
       "version_major": 2,
       "version_minor": 0
      },
      "text/plain": [
       "Output()"
      ]
     },
     "metadata": {},
     "output_type": "display_data"
    },
    {
     "name": "stdout",
     "output_type": "stream",
     "text": [
      "Initializing collection 'encounters_to_observations'\n"
     ]
    },
    {
     "data": {
      "text/html": [
       "<pre style=\"white-space:pre;overflow-x:auto;line-height:normal;font-family:Menlo,'DejaVu Sans Mono',consolas,'Courier New',monospace\"></pre>\n"
      ],
      "text/plain": []
     },
     "metadata": {},
     "output_type": "display_data"
    },
    {
     "data": {
      "application/vnd.jupyter.widget-view+json": {
       "model_id": "d808fa715df84e0885274fc436a948bf",
       "version_major": 2,
       "version_minor": 0
      },
      "text/plain": [
       "Output()"
      ]
     },
     "metadata": {},
     "output_type": "display_data"
    },
    {
     "data": {
      "text/html": [
       "<pre style=\"white-space:pre;overflow-x:auto;line-height:normal;font-family:Menlo,'DejaVu Sans Mono',consolas,'Courier New',monospace\"></pre>\n"
      ],
      "text/plain": []
     },
     "metadata": {},
     "output_type": "display_data"
    },
    {
     "data": {
      "application/vnd.jupyter.widget-view+json": {
       "model_id": "49033f6c7ce5480ca3642e888ed0129d",
       "version_major": 2,
       "version_minor": 0
      },
      "text/plain": [
       "Output()"
      ]
     },
     "metadata": {},
     "output_type": "display_data"
    },
    {
     "name": "stdout",
     "output_type": "stream",
     "text": [
      "Initializing collection 'patients_to_devices'\n"
     ]
    },
    {
     "data": {
      "text/html": [
       "<pre style=\"white-space:pre;overflow-x:auto;line-height:normal;font-family:Menlo,'DejaVu Sans Mono',consolas,'Courier New',monospace\"></pre>\n"
      ],
      "text/plain": []
     },
     "metadata": {},
     "output_type": "display_data"
    },
    {
     "data": {
      "application/vnd.jupyter.widget-view+json": {
       "model_id": "fb56f667d8c94a21ac54187e30d07f62",
       "version_major": 2,
       "version_minor": 0
      },
      "text/plain": [
       "Output()"
      ]
     },
     "metadata": {},
     "output_type": "display_data"
    },
    {
     "data": {
      "text/html": [
       "<pre style=\"white-space:pre;overflow-x:auto;line-height:normal;font-family:Menlo,'DejaVu Sans Mono',consolas,'Courier New',monospace\"></pre>\n"
      ],
      "text/plain": []
     },
     "metadata": {},
     "output_type": "display_data"
    },
    {
     "data": {
      "application/vnd.jupyter.widget-view+json": {
       "model_id": "a9d100f2c75345cbb5100355161a74b6",
       "version_major": 2,
       "version_minor": 0
      },
      "text/plain": [
       "Output()"
      ]
     },
     "metadata": {},
     "output_type": "display_data"
    },
    {
     "name": "stdout",
     "output_type": "stream",
     "text": [
      "Initializing collection 'patients_to_imaging_studies'\n"
     ]
    },
    {
     "data": {
      "text/html": [
       "<pre style=\"white-space:pre;overflow-x:auto;line-height:normal;font-family:Menlo,'DejaVu Sans Mono',consolas,'Courier New',monospace\"></pre>\n"
      ],
      "text/plain": []
     },
     "metadata": {},
     "output_type": "display_data"
    },
    {
     "data": {
      "application/vnd.jupyter.widget-view+json": {
       "model_id": "f1fcb9e45d684839963dc08cdb3081b0",
       "version_major": 2,
       "version_minor": 0
      },
      "text/plain": [
       "Output()"
      ]
     },
     "metadata": {},
     "output_type": "display_data"
    },
    {
     "data": {
      "text/html": [
       "<pre style=\"white-space:pre;overflow-x:auto;line-height:normal;font-family:Menlo,'DejaVu Sans Mono',consolas,'Courier New',monospace\"></pre>\n"
      ],
      "text/plain": []
     },
     "metadata": {},
     "output_type": "display_data"
    },
    {
     "data": {
      "application/vnd.jupyter.widget-view+json": {
       "model_id": "72630b8e3b1c4a4c80e044e2f64b9dcf",
       "version_major": 2,
       "version_minor": 0
      },
      "text/plain": [
       "Output()"
      ]
     },
     "metadata": {},
     "output_type": "display_data"
    },
    {
     "name": "stdout",
     "output_type": "stream",
     "text": [
      "Initializing collection 'patients_to_allergies'\n"
     ]
    },
    {
     "data": {
      "text/html": [
       "<pre style=\"white-space:pre;overflow-x:auto;line-height:normal;font-family:Menlo,'DejaVu Sans Mono',consolas,'Courier New',monospace\"></pre>\n"
      ],
      "text/plain": []
     },
     "metadata": {},
     "output_type": "display_data"
    },
    {
     "data": {
      "application/vnd.jupyter.widget-view+json": {
       "model_id": "885ce00338ea4c128750bced67c6a899",
       "version_major": 2,
       "version_minor": 0
      },
      "text/plain": [
       "Output()"
      ]
     },
     "metadata": {},
     "output_type": "display_data"
    },
    {
     "data": {
      "text/html": [
       "<pre style=\"white-space:pre;overflow-x:auto;line-height:normal;font-family:Menlo,'DejaVu Sans Mono',consolas,'Courier New',monospace\"></pre>\n"
      ],
      "text/plain": []
     },
     "metadata": {},
     "output_type": "display_data"
    },
    {
     "data": {
      "application/vnd.jupyter.widget-view+json": {
       "model_id": "4f6baed7ff9148e981550b1892281456",
       "version_major": 2,
       "version_minor": 0
      },
      "text/plain": [
       "Output()"
      ]
     },
     "metadata": {},
     "output_type": "display_data"
    },
    {
     "name": "stdout",
     "output_type": "stream",
     "text": [
      "Initializing collection 'payers_to_encounters'\n"
     ]
    },
    {
     "data": {
      "text/html": [
       "<pre style=\"white-space:pre;overflow-x:auto;line-height:normal;font-family:Menlo,'DejaVu Sans Mono',consolas,'Courier New',monospace\"></pre>\n"
      ],
      "text/plain": []
     },
     "metadata": {},
     "output_type": "display_data"
    },
    {
     "data": {
      "application/vnd.jupyter.widget-view+json": {
       "model_id": "a131ba25f28d4ae7876d9254a6c8ef95",
       "version_major": 2,
       "version_minor": 0
      },
      "text/plain": [
       "Output()"
      ]
     },
     "metadata": {},
     "output_type": "display_data"
    },
    {
     "data": {
      "text/html": [
       "<pre style=\"white-space:pre;overflow-x:auto;line-height:normal;font-family:Menlo,'DejaVu Sans Mono',consolas,'Courier New',monospace\"></pre>\n"
      ],
      "text/plain": []
     },
     "metadata": {},
     "output_type": "display_data"
    },
    {
     "data": {
      "application/vnd.jupyter.widget-view+json": {
       "model_id": "adbc9acc40b04aaabd01b5333369f2b5",
       "version_major": 2,
       "version_minor": 0
      },
      "text/plain": [
       "Output()"
      ]
     },
     "metadata": {},
     "output_type": "display_data"
    },
    {
     "name": "stdout",
     "output_type": "stream",
     "text": [
      "Initializing collection 'encounters_to_medications'\n"
     ]
    },
    {
     "data": {
      "text/html": [
       "<pre style=\"white-space:pre;overflow-x:auto;line-height:normal;font-family:Menlo,'DejaVu Sans Mono',consolas,'Courier New',monospace\"></pre>\n"
      ],
      "text/plain": []
     },
     "metadata": {},
     "output_type": "display_data"
    },
    {
     "data": {
      "application/vnd.jupyter.widget-view+json": {
       "model_id": "ac7b2d6d271d4c529ef52ca533abfc8b",
       "version_major": 2,
       "version_minor": 0
      },
      "text/plain": [
       "Output()"
      ]
     },
     "metadata": {},
     "output_type": "display_data"
    },
    {
     "data": {
      "text/html": [
       "<pre style=\"white-space:pre;overflow-x:auto;line-height:normal;font-family:Menlo,'DejaVu Sans Mono',consolas,'Courier New',monospace\"></pre>\n"
      ],
      "text/plain": []
     },
     "metadata": {},
     "output_type": "display_data"
    },
    {
     "data": {
      "application/vnd.jupyter.widget-view+json": {
       "model_id": "68edf2d783c2417983d1d4997bf83994",
       "version_major": 2,
       "version_minor": 0
      },
      "text/plain": [
       "Output()"
      ]
     },
     "metadata": {},
     "output_type": "display_data"
    },
    {
     "name": "stdout",
     "output_type": "stream",
     "text": [
      "Initializing collection 'patients_to_careplans'\n"
     ]
    },
    {
     "data": {
      "text/html": [
       "<pre style=\"white-space:pre;overflow-x:auto;line-height:normal;font-family:Menlo,'DejaVu Sans Mono',consolas,'Courier New',monospace\"></pre>\n"
      ],
      "text/plain": []
     },
     "metadata": {},
     "output_type": "display_data"
    },
    {
     "data": {
      "application/vnd.jupyter.widget-view+json": {
       "model_id": "463c23f2d77643a8be6f0a5a7f0f7280",
       "version_major": 2,
       "version_minor": 0
      },
      "text/plain": [
       "Output()"
      ]
     },
     "metadata": {},
     "output_type": "display_data"
    },
    {
     "data": {
      "text/html": [
       "<pre style=\"white-space:pre;overflow-x:auto;line-height:normal;font-family:Menlo,'DejaVu Sans Mono',consolas,'Courier New',monospace\"></pre>\n"
      ],
      "text/plain": []
     },
     "metadata": {},
     "output_type": "display_data"
    },
    {
     "data": {
      "application/vnd.jupyter.widget-view+json": {
       "model_id": "fbe1f0b3e9914860bd9322d2492a3814",
       "version_major": 2,
       "version_minor": 0
      },
      "text/plain": [
       "Output()"
      ]
     },
     "metadata": {},
     "output_type": "display_data"
    },
    {
     "name": "stdout",
     "output_type": "stream",
     "text": [
      "Initializing collection 'patients_to_observations'\n"
     ]
    },
    {
     "data": {
      "text/html": [
       "<pre style=\"white-space:pre;overflow-x:auto;line-height:normal;font-family:Menlo,'DejaVu Sans Mono',consolas,'Courier New',monospace\"></pre>\n"
      ],
      "text/plain": []
     },
     "metadata": {},
     "output_type": "display_data"
    },
    {
     "data": {
      "application/vnd.jupyter.widget-view+json": {
       "model_id": "cce54e7ef62e4dc0a587c957dd5c285d",
       "version_major": 2,
       "version_minor": 0
      },
      "text/plain": [
       "Output()"
      ]
     },
     "metadata": {},
     "output_type": "display_data"
    },
    {
     "data": {
      "text/html": [
       "<pre style=\"white-space:pre;overflow-x:auto;line-height:normal;font-family:Menlo,'DejaVu Sans Mono',consolas,'Courier New',monospace\"></pre>\n"
      ],
      "text/plain": []
     },
     "metadata": {},
     "output_type": "display_data"
    },
    {
     "data": {
      "application/vnd.jupyter.widget-view+json": {
       "model_id": "262de105a4b34e5bb09ac43c9d204649",
       "version_major": 2,
       "version_minor": 0
      },
      "text/plain": [
       "Output()"
      ]
     },
     "metadata": {},
     "output_type": "display_data"
    },
    {
     "name": "stdout",
     "output_type": "stream",
     "text": [
      "Initializing collection 'organizations_to_encounters'\n"
     ]
    },
    {
     "data": {
      "text/html": [
       "<pre style=\"white-space:pre;overflow-x:auto;line-height:normal;font-family:Menlo,'DejaVu Sans Mono',consolas,'Courier New',monospace\"></pre>\n"
      ],
      "text/plain": []
     },
     "metadata": {},
     "output_type": "display_data"
    },
    {
     "data": {
      "application/vnd.jupyter.widget-view+json": {
       "model_id": "e5ba7b8243c64c7093ea277ec939467d",
       "version_major": 2,
       "version_minor": 0
      },
      "text/plain": [
       "Output()"
      ]
     },
     "metadata": {},
     "output_type": "display_data"
    },
    {
     "data": {
      "text/html": [
       "<pre style=\"white-space:pre;overflow-x:auto;line-height:normal;font-family:Menlo,'DejaVu Sans Mono',consolas,'Courier New',monospace\"></pre>\n"
      ],
      "text/plain": []
     },
     "metadata": {},
     "output_type": "display_data"
    },
    {
     "data": {
      "application/vnd.jupyter.widget-view+json": {
       "model_id": "2aa401d6ab0d4d75964cd7733fa20c7d",
       "version_major": 2,
       "version_minor": 0
      },
      "text/plain": [
       "Output()"
      ]
     },
     "metadata": {},
     "output_type": "display_data"
    },
    {
     "name": "stdout",
     "output_type": "stream",
     "text": [
      "Initializing collection 'payers_to_medications'\n"
     ]
    },
    {
     "data": {
      "text/html": [
       "<pre style=\"white-space:pre;overflow-x:auto;line-height:normal;font-family:Menlo,'DejaVu Sans Mono',consolas,'Courier New',monospace\"></pre>\n"
      ],
      "text/plain": []
     },
     "metadata": {},
     "output_type": "display_data"
    },
    {
     "data": {
      "application/vnd.jupyter.widget-view+json": {
       "model_id": "9dd61545c56e403dba22949f2c2d76a3",
       "version_major": 2,
       "version_minor": 0
      },
      "text/plain": [
       "Output()"
      ]
     },
     "metadata": {},
     "output_type": "display_data"
    },
    {
     "data": {
      "text/html": [
       "<pre style=\"white-space:pre;overflow-x:auto;line-height:normal;font-family:Menlo,'DejaVu Sans Mono',consolas,'Courier New',monospace\"></pre>\n"
      ],
      "text/plain": []
     },
     "metadata": {},
     "output_type": "display_data"
    },
    {
     "data": {
      "application/vnd.jupyter.widget-view+json": {
       "model_id": "abc96c94ffe84046a5748369a7d4ba41",
       "version_major": 2,
       "version_minor": 0
      },
      "text/plain": [
       "Output()"
      ]
     },
     "metadata": {},
     "output_type": "display_data"
    },
    {
     "name": "stdout",
     "output_type": "stream",
     "text": [
      "Initializing collection 'encounters_to_careplans'\n"
     ]
    },
    {
     "data": {
      "text/html": [
       "<pre style=\"white-space:pre;overflow-x:auto;line-height:normal;font-family:Menlo,'DejaVu Sans Mono',consolas,'Courier New',monospace\"></pre>\n"
      ],
      "text/plain": []
     },
     "metadata": {},
     "output_type": "display_data"
    },
    {
     "data": {
      "application/vnd.jupyter.widget-view+json": {
       "model_id": "235caa5fefae448a8e45f7cefff3d2bb",
       "version_major": 2,
       "version_minor": 0
      },
      "text/plain": [
       "Output()"
      ]
     },
     "metadata": {},
     "output_type": "display_data"
    },
    {
     "data": {
      "text/html": [
       "<pre style=\"white-space:pre;overflow-x:auto;line-height:normal;font-family:Menlo,'DejaVu Sans Mono',consolas,'Courier New',monospace\"></pre>\n"
      ],
      "text/plain": []
     },
     "metadata": {},
     "output_type": "display_data"
    },
    {
     "data": {
      "application/vnd.jupyter.widget-view+json": {
       "model_id": "9475b674f3b1471f8894b74085f13cde",
       "version_major": 2,
       "version_minor": 0
      },
      "text/plain": [
       "Output()"
      ]
     },
     "metadata": {},
     "output_type": "display_data"
    },
    {
     "name": "stdout",
     "output_type": "stream",
     "text": [
      "Initializing collection 'encounters_to_supplies'\n"
     ]
    },
    {
     "data": {
      "text/html": [
       "<pre style=\"white-space:pre;overflow-x:auto;line-height:normal;font-family:Menlo,'DejaVu Sans Mono',consolas,'Courier New',monospace\"></pre>\n"
      ],
      "text/plain": []
     },
     "metadata": {},
     "output_type": "display_data"
    },
    {
     "data": {
      "application/vnd.jupyter.widget-view+json": {
       "model_id": "7db51ee862ba4fd989505b02daea3852",
       "version_major": 2,
       "version_minor": 0
      },
      "text/plain": [
       "Output()"
      ]
     },
     "metadata": {},
     "output_type": "display_data"
    },
    {
     "data": {
      "text/html": [
       "<pre style=\"white-space:pre;overflow-x:auto;line-height:normal;font-family:Menlo,'DejaVu Sans Mono',consolas,'Courier New',monospace\"></pre>\n"
      ],
      "text/plain": []
     },
     "metadata": {},
     "output_type": "display_data"
    },
    {
     "data": {
      "application/vnd.jupyter.widget-view+json": {
       "model_id": "a8db05ed9b3241dc8770ce6974b2af29",
       "version_major": 2,
       "version_minor": 0
      },
      "text/plain": [
       "Output()"
      ]
     },
     "metadata": {},
     "output_type": "display_data"
    },
    {
     "name": "stdout",
     "output_type": "stream",
     "text": [
      "Initializing collection 'providers_to_encounters'\n"
     ]
    },
    {
     "data": {
      "text/html": [
       "<pre style=\"white-space:pre;overflow-x:auto;line-height:normal;font-family:Menlo,'DejaVu Sans Mono',consolas,'Courier New',monospace\"></pre>\n"
      ],
      "text/plain": []
     },
     "metadata": {},
     "output_type": "display_data"
    },
    {
     "data": {
      "application/vnd.jupyter.widget-view+json": {
       "model_id": "8c6b9f837f3940b2a3160d0da8e2b574",
       "version_major": 2,
       "version_minor": 0
      },
      "text/plain": [
       "Output()"
      ]
     },
     "metadata": {},
     "output_type": "display_data"
    },
    {
     "data": {
      "text/html": [
       "<pre style=\"white-space:pre;overflow-x:auto;line-height:normal;font-family:Menlo,'DejaVu Sans Mono',consolas,'Courier New',monospace\"></pre>\n"
      ],
      "text/plain": []
     },
     "metadata": {},
     "output_type": "display_data"
    },
    {
     "data": {
      "application/vnd.jupyter.widget-view+json": {
       "model_id": "4a5c6718df5f4542b535a054f932bd60",
       "version_major": 2,
       "version_minor": 0
      },
      "text/plain": [
       "Output()"
      ]
     },
     "metadata": {},
     "output_type": "display_data"
    },
    {
     "name": "stdout",
     "output_type": "stream",
     "text": [
      "Initializing collection 'encounters_to_allergies'\n"
     ]
    },
    {
     "data": {
      "text/html": [
       "<pre style=\"white-space:pre;overflow-x:auto;line-height:normal;font-family:Menlo,'DejaVu Sans Mono',consolas,'Courier New',monospace\"></pre>\n"
      ],
      "text/plain": []
     },
     "metadata": {},
     "output_type": "display_data"
    },
    {
     "data": {
      "application/vnd.jupyter.widget-view+json": {
       "model_id": "33ad6935286b4b68ac33b4d64f38e8fd",
       "version_major": 2,
       "version_minor": 0
      },
      "text/plain": [
       "Output()"
      ]
     },
     "metadata": {},
     "output_type": "display_data"
    },
    {
     "data": {
      "text/html": [
       "<pre style=\"white-space:pre;overflow-x:auto;line-height:normal;font-family:Menlo,'DejaVu Sans Mono',consolas,'Courier New',monospace\"></pre>\n"
      ],
      "text/plain": []
     },
     "metadata": {},
     "output_type": "display_data"
    },
    {
     "data": {
      "application/vnd.jupyter.widget-view+json": {
       "model_id": "bac1bae986c244d496ed11b47602c8f4",
       "version_major": 2,
       "version_minor": 0
      },
      "text/plain": [
       "Output()"
      ]
     },
     "metadata": {},
     "output_type": "display_data"
    },
    {
     "name": "stdout",
     "output_type": "stream",
     "text": [
      "Initializing collection 'organizations_to_providers'\n"
     ]
    },
    {
     "data": {
      "text/html": [
       "<pre style=\"white-space:pre;overflow-x:auto;line-height:normal;font-family:Menlo,'DejaVu Sans Mono',consolas,'Courier New',monospace\"></pre>\n"
      ],
      "text/plain": []
     },
     "metadata": {},
     "output_type": "display_data"
    },
    {
     "data": {
      "application/vnd.jupyter.widget-view+json": {
       "model_id": "b04e877ef2084a47a92790a66e54aad9",
       "version_major": 2,
       "version_minor": 0
      },
      "text/plain": [
       "Output()"
      ]
     },
     "metadata": {},
     "output_type": "display_data"
    },
    {
     "data": {
      "text/html": [
       "<pre style=\"white-space:pre;overflow-x:auto;line-height:normal;font-family:Menlo,'DejaVu Sans Mono',consolas,'Courier New',monospace\"></pre>\n"
      ],
      "text/plain": []
     },
     "metadata": {},
     "output_type": "display_data"
    },
    {
     "data": {
      "application/vnd.jupyter.widget-view+json": {
       "model_id": "2fce66a4863a4e79b9863d40843a38ba",
       "version_major": 2,
       "version_minor": 0
      },
      "text/plain": [
       "Output()"
      ]
     },
     "metadata": {},
     "output_type": "display_data"
    },
    {
     "name": "stdout",
     "output_type": "stream",
     "text": [
      "Initializing collection 'encounters_to_immunizations'\n"
     ]
    },
    {
     "data": {
      "text/html": [
       "<pre style=\"white-space:pre;overflow-x:auto;line-height:normal;font-family:Menlo,'DejaVu Sans Mono',consolas,'Courier New',monospace\"></pre>\n"
      ],
      "text/plain": []
     },
     "metadata": {},
     "output_type": "display_data"
    },
    {
     "data": {
      "application/vnd.jupyter.widget-view+json": {
       "model_id": "f313868caa7f43c0a5f9b789362163c0",
       "version_major": 2,
       "version_minor": 0
      },
      "text/plain": [
       "Output()"
      ]
     },
     "metadata": {},
     "output_type": "display_data"
    },
    {
     "data": {
      "text/html": [
       "<pre style=\"white-space:pre;overflow-x:auto;line-height:normal;font-family:Menlo,'DejaVu Sans Mono',consolas,'Courier New',monospace\"></pre>\n"
      ],
      "text/plain": []
     },
     "metadata": {},
     "output_type": "display_data"
    },
    {
     "data": {
      "application/vnd.jupyter.widget-view+json": {
       "model_id": "f0b97f1c1567474b975d5a639f9c058e",
       "version_major": 2,
       "version_minor": 0
      },
      "text/plain": [
       "Output()"
      ]
     },
     "metadata": {},
     "output_type": "display_data"
    },
    {
     "name": "stdout",
     "output_type": "stream",
     "text": [
      "Initializing collection 'encounters_to_conditions'\n"
     ]
    },
    {
     "data": {
      "text/html": [
       "<pre style=\"white-space:pre;overflow-x:auto;line-height:normal;font-family:Menlo,'DejaVu Sans Mono',consolas,'Courier New',monospace\"></pre>\n"
      ],
      "text/plain": []
     },
     "metadata": {},
     "output_type": "display_data"
    },
    {
     "data": {
      "application/vnd.jupyter.widget-view+json": {
       "model_id": "b3fd31a5f51f413ab79c3fd40e86ca33",
       "version_major": 2,
       "version_minor": 0
      },
      "text/plain": [
       "Output()"
      ]
     },
     "metadata": {},
     "output_type": "display_data"
    },
    {
     "data": {
      "text/html": [
       "<pre style=\"white-space:pre;overflow-x:auto;line-height:normal;font-family:Menlo,'DejaVu Sans Mono',consolas,'Courier New',monospace\"></pre>\n"
      ],
      "text/plain": []
     },
     "metadata": {},
     "output_type": "display_data"
    },
    {
     "data": {
      "application/vnd.jupyter.widget-view+json": {
       "model_id": "90626ec8cc764ed291f71aebdf50350c",
       "version_major": 2,
       "version_minor": 0
      },
      "text/plain": [
       "Output()"
      ]
     },
     "metadata": {},
     "output_type": "display_data"
    },
    {
     "name": "stdout",
     "output_type": "stream",
     "text": [
      "Initializing collection 'patients_to_procedures'\n"
     ]
    },
    {
     "data": {
      "text/html": [
       "<pre style=\"white-space:pre;overflow-x:auto;line-height:normal;font-family:Menlo,'DejaVu Sans Mono',consolas,'Courier New',monospace\"></pre>\n"
      ],
      "text/plain": []
     },
     "metadata": {},
     "output_type": "display_data"
    },
    {
     "data": {
      "application/vnd.jupyter.widget-view+json": {
       "model_id": "3dcfd540d7e448978ddcad631d0564eb",
       "version_major": 2,
       "version_minor": 0
      },
      "text/plain": [
       "Output()"
      ]
     },
     "metadata": {},
     "output_type": "display_data"
    },
    {
     "data": {
      "text/html": [
       "<pre style=\"white-space:pre;overflow-x:auto;line-height:normal;font-family:Menlo,'DejaVu Sans Mono',consolas,'Courier New',monospace\"></pre>\n"
      ],
      "text/plain": []
     },
     "metadata": {},
     "output_type": "display_data"
    },
    {
     "data": {
      "application/vnd.jupyter.widget-view+json": {
       "model_id": "e0418ac6ced443ec81d2fa2438c75959",
       "version_major": 2,
       "version_minor": 0
      },
      "text/plain": [
       "Output()"
      ]
     },
     "metadata": {},
     "output_type": "display_data"
    },
    {
     "name": "stdout",
     "output_type": "stream",
     "text": [
      "Initializing collection 'patients_to_conditions'\n"
     ]
    },
    {
     "data": {
      "text/html": [
       "<pre style=\"white-space:pre;overflow-x:auto;line-height:normal;font-family:Menlo,'DejaVu Sans Mono',consolas,'Courier New',monospace\"></pre>\n"
      ],
      "text/plain": []
     },
     "metadata": {},
     "output_type": "display_data"
    },
    {
     "data": {
      "application/vnd.jupyter.widget-view+json": {
       "model_id": "caf53eda525641f4902c0229ab489839",
       "version_major": 2,
       "version_minor": 0
      },
      "text/plain": [
       "Output()"
      ]
     },
     "metadata": {},
     "output_type": "display_data"
    },
    {
     "data": {
      "text/html": [
       "<pre style=\"white-space:pre;overflow-x:auto;line-height:normal;font-family:Menlo,'DejaVu Sans Mono',consolas,'Courier New',monospace\"></pre>\n"
      ],
      "text/plain": []
     },
     "metadata": {},
     "output_type": "display_data"
    },
    {
     "data": {
      "application/vnd.jupyter.widget-view+json": {
       "model_id": "2c3d9be746d14a9c81c528a2b75cfc43",
       "version_major": 2,
       "version_minor": 0
      },
      "text/plain": [
       "Output()"
      ]
     },
     "metadata": {},
     "output_type": "display_data"
    },
    {
     "name": "stdout",
     "output_type": "stream",
     "text": [
      "Initializing collection 'encounters_to_devices'\n"
     ]
    },
    {
     "data": {
      "text/html": [
       "<pre style=\"white-space:pre;overflow-x:auto;line-height:normal;font-family:Menlo,'DejaVu Sans Mono',consolas,'Courier New',monospace\"></pre>\n"
      ],
      "text/plain": []
     },
     "metadata": {},
     "output_type": "display_data"
    },
    {
     "data": {
      "application/vnd.jupyter.widget-view+json": {
       "model_id": "4ad207fa2e3848ba84ffe9c049323895",
       "version_major": 2,
       "version_minor": 0
      },
      "text/plain": [
       "Output()"
      ]
     },
     "metadata": {},
     "output_type": "display_data"
    },
    {
     "data": {
      "text/html": [
       "<pre style=\"white-space:pre;overflow-x:auto;line-height:normal;font-family:Menlo,'DejaVu Sans Mono',consolas,'Courier New',monospace\"></pre>\n"
      ],
      "text/plain": []
     },
     "metadata": {},
     "output_type": "display_data"
    },
    {
     "data": {
      "application/vnd.jupyter.widget-view+json": {
       "model_id": "a4bc2358c327467eb3ea0f2e487af754",
       "version_major": 2,
       "version_minor": 0
      },
      "text/plain": [
       "Output()"
      ]
     },
     "metadata": {},
     "output_type": "display_data"
    },
    {
     "name": "stdout",
     "output_type": "stream",
     "text": [
      "Initializing collection 'patients_to_supplies'\n"
     ]
    },
    {
     "data": {
      "text/html": [
       "<pre style=\"white-space:pre;overflow-x:auto;line-height:normal;font-family:Menlo,'DejaVu Sans Mono',consolas,'Courier New',monospace\"></pre>\n"
      ],
      "text/plain": []
     },
     "metadata": {},
     "output_type": "display_data"
    },
    {
     "data": {
      "application/vnd.jupyter.widget-view+json": {
       "model_id": "edd8f4cca00e41b78f76bf13af25a688",
       "version_major": 2,
       "version_minor": 0
      },
      "text/plain": [
       "Output()"
      ]
     },
     "metadata": {},
     "output_type": "display_data"
    },
    {
     "data": {
      "text/html": [
       "<pre style=\"white-space:pre;overflow-x:auto;line-height:normal;font-family:Menlo,'DejaVu Sans Mono',consolas,'Courier New',monospace\"></pre>\n"
      ],
      "text/plain": []
     },
     "metadata": {},
     "output_type": "display_data"
    },
    {
     "data": {
      "application/vnd.jupyter.widget-view+json": {
       "model_id": "bc2c516379954979b0373483a5b4cf2d",
       "version_major": 2,
       "version_minor": 0
      },
      "text/plain": [
       "Output()"
      ]
     },
     "metadata": {},
     "output_type": "display_data"
    },
    {
     "name": "stdout",
     "output_type": "stream",
     "text": [
      "Initializing collection 'encounters_to_procedures'\n"
     ]
    },
    {
     "data": {
      "text/html": [
       "<pre style=\"white-space:pre;overflow-x:auto;line-height:normal;font-family:Menlo,'DejaVu Sans Mono',consolas,'Courier New',monospace\"></pre>\n"
      ],
      "text/plain": []
     },
     "metadata": {},
     "output_type": "display_data"
    },
    {
     "data": {
      "application/vnd.jupyter.widget-view+json": {
       "model_id": "9e3341d59be445ae9f3a95cc8eaf359d",
       "version_major": 2,
       "version_minor": 0
      },
      "text/plain": [
       "Output()"
      ]
     },
     "metadata": {},
     "output_type": "display_data"
    },
    {
     "data": {
      "text/html": [
       "<pre style=\"white-space:pre;overflow-x:auto;line-height:normal;font-family:Menlo,'DejaVu Sans Mono',consolas,'Courier New',monospace\"></pre>\n"
      ],
      "text/plain": []
     },
     "metadata": {},
     "output_type": "display_data"
    },
    {
     "data": {
      "application/vnd.jupyter.widget-view+json": {
       "model_id": "2e51fcc96327491c8444984459da9bf7",
       "version_major": 2,
       "version_minor": 0
      },
      "text/plain": [
       "Output()"
      ]
     },
     "metadata": {},
     "output_type": "display_data"
    },
    {
     "name": "stdout",
     "output_type": "stream",
     "text": [
      "Initializing collection 'patients_to_medications'\n"
     ]
    },
    {
     "data": {
      "text/html": [
       "<pre style=\"white-space:pre;overflow-x:auto;line-height:normal;font-family:Menlo,'DejaVu Sans Mono',consolas,'Courier New',monospace\"></pre>\n"
      ],
      "text/plain": []
     },
     "metadata": {},
     "output_type": "display_data"
    },
    {
     "data": {
      "application/vnd.jupyter.widget-view+json": {
       "model_id": "be236a4d2b16498ba56ce40bdd45123f",
       "version_major": 2,
       "version_minor": 0
      },
      "text/plain": [
       "Output()"
      ]
     },
     "metadata": {},
     "output_type": "display_data"
    },
    {
     "data": {
      "text/html": [
       "<pre style=\"white-space:pre;overflow-x:auto;line-height:normal;font-family:Menlo,'DejaVu Sans Mono',consolas,'Courier New',monospace\"></pre>\n"
      ],
      "text/plain": []
     },
     "metadata": {},
     "output_type": "display_data"
    },
    {
     "data": {
      "application/vnd.jupyter.widget-view+json": {
       "model_id": "f2bf7becad384e4fbf29f5fed7fa4f0b",
       "version_major": 2,
       "version_minor": 0
      },
      "text/plain": [
       "Output()"
      ]
     },
     "metadata": {},
     "output_type": "display_data"
    },
    {
     "name": "stdout",
     "output_type": "stream",
     "text": [
      "Initializing collection 'encounters_to_imaging_studies'\n"
     ]
    },
    {
     "data": {
      "text/html": [
       "<pre style=\"white-space:pre;overflow-x:auto;line-height:normal;font-family:Menlo,'DejaVu Sans Mono',consolas,'Courier New',monospace\"></pre>\n"
      ],
      "text/plain": []
     },
     "metadata": {},
     "output_type": "display_data"
    },
    {
     "data": {
      "application/vnd.jupyter.widget-view+json": {
       "model_id": "a9bcddb601ec46ffbc9e9c9d744585e4",
       "version_major": 2,
       "version_minor": 0
      },
      "text/plain": [
       "Output()"
      ]
     },
     "metadata": {},
     "output_type": "display_data"
    },
    {
     "data": {
      "text/html": [
       "<pre style=\"white-space:pre;overflow-x:auto;line-height:normal;font-family:Menlo,'DejaVu Sans Mono',consolas,'Courier New',monospace\"></pre>\n"
      ],
      "text/plain": []
     },
     "metadata": {},
     "output_type": "display_data"
    }
   ],
   "source": [
    "db = ArangoClient(hosts=\"https://....arangodb.cloud:...\").db(\"_system\", username=\"root\", password=\"...\", verify=True)\n",
    "\n",
    "datasets = Datasets(db)\n",
    "\n",
    "print(datasets.dataset_info(\"SYNTHEA_P100\"))\n",
    "\n",
    "datasets.load(\"SYNTHEA_P100\")"
   ]
  },
  {
   "cell_type": "code",
   "execution_count": 7,
   "metadata": {
    "execution": {
     "iopub.execute_input": "2025-03-05T20:22:37.813113Z",
     "iopub.status.busy": "2025-03-05T20:22:37.812869Z",
     "iopub.status.idle": "2025-03-05T20:22:39.146925Z",
     "shell.execute_reply": "2025-03-05T20:22:39.145823Z",
     "shell.execute_reply.started": "2025-03-05T20:22:37.813093Z"
    },
    "trusted": true
   },
   "outputs": [
    {
     "data": {
      "text/plain": [
       "AIMessage(content='Hello! How can I assist you today?', additional_kwargs={'refusal': None}, response_metadata={'token_usage': {'completion_tokens': 10, 'prompt_tokens': 9, 'total_tokens': 19, 'completion_tokens_details': {'accepted_prediction_tokens': 0, 'audio_tokens': 0, 'reasoning_tokens': 0, 'rejected_prediction_tokens': 0}, 'prompt_tokens_details': {'audio_tokens': 0, 'cached_tokens': 0}}, 'model_name': 'gpt-4o-2024-08-06', 'system_fingerprint': 'fp_f9f4fb6dbf', 'finish_reason': 'stop', 'logprobs': None}, id='run-738727d4-6272-4ac0-bbe8-18144d501d3f-0', usage_metadata={'input_tokens': 9, 'output_tokens': 10, 'total_tokens': 19, 'input_token_details': {'audio': 0, 'cache_read': 0}, 'output_token_details': {'audio': 0, 'reasoning': 0}})"
      ]
     },
     "execution_count": 7,
     "metadata": {},
     "output_type": "execute_result"
    }
   ],
   "source": [
    "import os\n",
    "from langchain_openai import ChatOpenAI\n",
    "\n",
    "os.environ[\"OPENAI_API_KEY\"] = \"sk-proj...\"\n",
    "\n",
    "llm = ChatOpenAI(temperature=0, model_name=\"gpt-4o\")\n",
    "\n",
    "llm.invoke(\"hello!\")"
   ]
  },
  {
   "cell_type": "code",
   "execution_count": 8,
   "metadata": {
    "execution": {
     "iopub.execute_input": "2025-03-05T20:22:39.148329Z",
     "iopub.status.busy": "2025-03-05T20:22:39.148010Z",
     "iopub.status.idle": "2025-03-05T20:23:37.617396Z",
     "shell.execute_reply": "2025-03-05T20:23:37.616573Z",
     "shell.execute_reply.started": "2025-03-05T20:22:39.148304Z"
    },
    "trusted": true
   },
   "outputs": [
    {
     "name": "stderr",
     "output_type": "stream",
     "text": [
      "[20:22:39 +0000] [INFO]: Graph 'SYNTHEA_P100' exists.\n",
      "[20:22:39 +0000] [INFO]: Default node type set to 'allergies'\n"
     ]
    },
    {
     "name": "stdout",
     "output_type": "stream",
     "text": [
      "Graph loaded with 145514 nodes and 311701 edges\n",
      "GPU acceleration enabled via cuGraph\n"
     ]
    }
   ],
   "source": [
    "G_adb = nxadb.Graph(name=\"SYNTHEA_P100\", db=db, write_batch_size=100_000)\n",
    "print(f\"Graph loaded with {len(G_adb.nodes)} nodes and {len(G_adb.edges)} edges\")\n",
    "\n",
    "# Optional: try to init cuGraph for GPU acceleration\n",
    "try:\n",
    "    import nx_cugraph as nxcg\n",
    "    G_cugraph = nxcg.Graph(G_adb)\n",
    "    use_gpu = True\n",
    "    print(\"GPU acceleration enabled via cuGraph\")\n",
    "except Exception as e:\n",
    "    use_gpu = False\n",
    "    print(f\"GPU acceleration not available: {str(e)}\")"
   ]
  },
  {
   "cell_type": "code",
   "execution_count": 9,
   "metadata": {
    "execution": {
     "iopub.execute_input": "2025-03-05T20:23:37.620244Z",
     "iopub.status.busy": "2025-03-05T20:23:37.620002Z",
     "iopub.status.idle": "2025-03-05T20:23:37.630880Z",
     "shell.execute_reply": "2025-03-05T20:23:37.629809Z",
     "shell.execute_reply.started": "2025-03-05T20:23:37.620224Z"
    },
    "trusted": true
   },
   "outputs": [],
   "source": [
    "@tool\n",
    "def query_medical_graph(query_spec: dict):\n",
    "    \"\"\"\n",
    "    Dynamic medical graph analysis tool that determines the optimal query technique\n",
    "    and executes it. Supports AQL, NetworkX/cuGraph algorithms, or hybrid approaches.\n",
    "    \n",
    "    Parameters:\n",
    "    - query_spec: A dictionary containing:\n",
    "      - query: Natural language query about medical data\n",
    "      - context: Optional additional context\n",
    "      - parameters: Optional specific query parameters\n",
    "      - approach: Optional preferred analysis method\n",
    "    \"\"\"\n",
    "    # Extract query components\n",
    "    query = query_spec['query']\n",
    "    context = query_spec.get('context', {})\n",
    "    parameters = query_spec.get('parameters', {})\n",
    "    approach = query_spec.get('approach', None)\n",
    "    \n",
    "    # Analyze query intent to determine approach\n",
    "    query_analysis = llm.invoke(f\"\"\"\n",
    "    Analyze this medical query intent: \"{query}\"\n",
    "    \n",
    "    Classify this query into one of the following categories:\n",
    "    1. SIMPLE_RELATIONSHIP - Direct lookups, basic traversals, simple filtering\n",
    "    2. COMPLEX_PATTERN - Requires graph algorithms (centrality, community detection, path analysis)\n",
    "    3. HYBRID - Requires both relationship data and complex graph analytics\n",
    "    \n",
    "    Return classification in JSON:\n",
    "    {{\n",
    "        \"category\": \"SIMPLE_RELATIONSHIP|COMPLEX_PATTERN|HYBRID\",\n",
    "        \"explanation\": \"Brief explanation why\",\n",
    "        \"suggested_approach\": \"AQL|NetworkX|Hybrid\"\n",
    "    }}\n",
    "    \n",
    "    Context: {context if context else \"No additional context provided\"}\n",
    "    \"\"\").content\n",
    "    \n",
    "    # Extract analysis results\n",
    "    try:\n",
    "        analysis_result = json.loads(re.search(r'\\{.*\\}', query_analysis, re.DOTALL).group())\n",
    "        query_category = analysis_result.get('category', 'SIMPLE_RELATIONSHIP')\n",
    "        suggested_approach = analysis_result.get('suggested_approach', 'AQL')\n",
    "    except:\n",
    "        query_category = 'SIMPLE_RELATIONSHIP'\n",
    "        suggested_approach = 'AQL'\n",
    "    \n",
    "    # Override with specified approach if provided\n",
    "    if approach:\n",
    "        suggested_approach = approach\n",
    "    \n",
    "    # Execute appropriate query technique\n",
    "    if suggested_approach == 'AQL' or query_category == 'SIMPLE_RELATIONSHIP':\n",
    "        return execute_aql_query(query, parameters, context)\n",
    "    elif suggested_approach == 'NetworkX' or query_category == 'COMPLEX_PATTERN':\n",
    "        return execute_networkx_query(query, parameters, context)\n",
    "    else:  # Hybrid approach\n",
    "        return execute_hybrid_query(query, parameters, context)"
   ]
  },
  {
   "cell_type": "code",
   "execution_count": 10,
   "metadata": {
    "execution": {
     "iopub.execute_input": "2025-03-05T20:23:37.633285Z",
     "iopub.status.busy": "2025-03-05T20:23:37.633012Z",
     "iopub.status.idle": "2025-03-05T20:23:37.655577Z",
     "shell.execute_reply": "2025-03-05T20:23:37.654791Z",
     "shell.execute_reply.started": "2025-03-05T20:23:37.633257Z"
    },
    "trusted": true
   },
   "outputs": [],
   "source": [
    "def execute_aql_query(query, parameters={}, context={}):\n",
    "    \"\"\"Execute AQL queries via LangChain for simple relationship queries\"\"\"\n",
    "    chain = ArangoGraphQAChain.from_llm(\n",
    "        llm=llm,\n",
    "        graph=arango_graph,\n",
    "        verbose=True,\n",
    "        allow_dangerous_requests=True\n",
    "    )\n",
    "    \n",
    "    # Enhance query with medical context\n",
    "    enhanced_query = f\"\"\"\n",
    "    Based on the Synthea medical knowledge graph:\n",
    "    \n",
    "    Original query: {query}\n",
    "    \n",
    "    Additional context: {context if context else \"None\"}\n",
    "    \n",
    "    Parameters to consider: {parameters if parameters else \"None\"}\n",
    "    \"\"\"\n",
    "    \n",
    "    result = chain.invoke(enhanced_query)\n",
    "    \n",
    "    # Structure and analyze results\n",
    "    analysis = llm.invoke(f\"\"\"\n",
    "    Based on this query result from a medical database:\n",
    "    \n",
    "    {result['result']}\n",
    "    \n",
    "    Extract and structure the key information in a format useful for medical analysis.\n",
    "    Focus on presenting clear, structured data highlighting any potential rare disease insights.\n",
    "    \n",
    "    Return a structured JSON with relevant medical fields.\n",
    "    \"\"\").content\n",
    "    \n",
    "    try:\n",
    "        structured_data = json.loads(re.search(r'\\{.*\\}', analysis, re.DOTALL).group())\n",
    "        return {\n",
    "            \"result\": result['result'],\n",
    "            \"structured_data\": structured_data,\n",
    "            \"query_type\": \"AQL\",\n",
    "            \"original_query\": query\n",
    "        }\n",
    "    except:\n",
    "        return {\n",
    "            \"result\": result['result'],\n",
    "            \"query_type\": \"AQL\",\n",
    "            \"original_query\": query\n",
    "        }\n",
    "\n",
    "def execute_networkx_query(query, parameters={}, context={}):\n",
    "    \"\"\"Execute NetworkX/cuGraph algorithms for complex pattern analysis\"\"\"\n",
    "    # Generate appropriate NetworkX/cuGraph code\n",
    "    code_generation_prompt = f\"\"\"\n",
    "    I have a NetworkX Graph `G_adb` representing a medical knowledge graph from Synthea.\n",
    "    \n",
    "    The query is: \"{query}\"\n",
    "    \n",
    "    Additional context: {context if context else \"None\"}\n",
    "    Parameters: {parameters if parameters else \"None\"}\n",
    "    \n",
    "    Generate Python code using NetworkX and/or cuGraph algorithms to answer this query.\n",
    "    Focus on detecting rare disease patterns, unusual symptom clusters, or atypical progressions.\n",
    "    \n",
    "    Your code should:\n",
    "    1. Extract relevant subgraph if needed\n",
    "    2. Apply appropriate graph algorithms (centrality, community detection, path analysis)\n",
    "    3. Interpret results for rare disease analysis\n",
    "    4. Store final answer in variable FINAL_RESULT\n",
    "    \n",
    "    Only provide executable Python code without explanations.\n",
    "    \"\"\"\n",
    "\n",
    "    nx_code = llm.invoke(code_generation_prompt).content\n",
    "    nx_code_cleaned = re.sub(r\"^```python\\n|```$\", \"\", nx_code, flags=re.MULTILINE).strip()\n",
    "    \n",
    "    # Try to use GPU acceleration when available\n",
    "    try:\n",
    "        if use_gpu:\n",
    "            global_vars = {\"G_adb\": G_adb, \"G_cugraph\": G_cugraph, \"nx\": nx, \"nxcg\": nxcg, \"db\": db}\n",
    "        else:\n",
    "            global_vars = {\"G_adb\": G_adb, \"nx\": nx, \"db\": db}\n",
    "        \n",
    "        local_vars = {}\n",
    "        exec(nx_code_cleaned, global_vars, local_vars)\n",
    "        result = local_vars.get(\"FINAL_RESULT\", \"No result was generated\")\n",
    "    except Exception as e:\n",
    "        # Try to fix common errors\n",
    "        fix_prompt = f\"\"\"\n",
    "        The following NetworkX code failed with error: {str(e)}\n",
    "        \n",
    "        Code:\n",
    "        {nx_code_cleaned}\n",
    "        \n",
    "        Please fix the code to address this error. Focus only on fixing the error.\n",
    "        \"\"\"\n",
    "        \n",
    "        fixed_code = llm.invoke(fix_prompt).content\n",
    "        fixed_code_cleaned = re.sub(r\"^```python\\n|```$\", \"\", fixed_code, flags=re.MULTILINE).strip()\n",
    "        \n",
    "        try:\n",
    "            exec(fixed_code_cleaned, global_vars, local_vars)\n",
    "            result = local_vars.get(\"FINAL_RESULT\", \"No result was generated after fixing code\")\n",
    "        except Exception as e2:\n",
    "            return {\n",
    "                \"error\": f\"Graph analysis failed: {str(e2)}\",\n",
    "                \"query_type\": \"NetworkX\",\n",
    "                \"original_query\": query\n",
    "            }\n",
    "    \n",
    "    # Enhance the result with medical interpretation\n",
    "    result_interpretation = llm.invoke(f\"\"\"\n",
    "    I executed graph analytics on a medical knowledge graph to answer: \"{query}\"\n",
    "    \n",
    "    The analysis result is: {result}\n",
    "    \n",
    "    Please interpret this result in the context of rare disease diagnosis, explaining:\n",
    "    1. What patterns or insights were found\n",
    "    2. How these relate to potential rare disease diagnosis\n",
    "    3. Clinical significance of these findings\n",
    "    \n",
    "    Return your interpretation in a structured JSON format with medical insights.\n",
    "    \"\"\").content\n",
    "    \n",
    "    try:\n",
    "        interpretation_data = json.loads(re.search(r'\\{.*\\}', result_interpretation, re.DOTALL).group())\n",
    "        return {\n",
    "            \"result\": result,\n",
    "            \"interpretation\": interpretation_data,\n",
    "            \"query_type\": \"NetworkX\",\n",
    "            \"original_query\": query\n",
    "        }\n",
    "    except:\n",
    "        return {\n",
    "            \"result\": result,\n",
    "            \"interpretation\": result_interpretation,\n",
    "            \"query_type\": \"NetworkX\",\n",
    "            \"original_query\": query\n",
    "        }\n",
    "\n",
    "def execute_hybrid_query(query, parameters={}, context={}):\n",
    "    \"\"\"Execute hybrid queries combining AQL and NetworkX for complex analysis\"\"\"\n",
    "    # Determine what parts need AQL vs NetworkX\n",
    "    query_decomposition = llm.invoke(f\"\"\"\n",
    "    I need to analyze this medical query using a hybrid approach combining AQL and NetworkX:\n",
    "    \n",
    "    \"{query}\"\n",
    "    \n",
    "    Break this query into components that should be handled by:\n",
    "    1. AQL - for retrieving specific data relationships\n",
    "    2. NetworkX - for complex pattern analysis\n",
    "    \n",
    "    Provide decomposition in JSON format:\n",
    "    {{\n",
    "        \"aql_component\": \"What specific data should be retrieved using AQL\",\n",
    "        \"networkx_component\": \"What analysis should be performed using NetworkX\",\n",
    "        \"integration_strategy\": \"How to combine the results\"\n",
    "    }}\n",
    "    \"\"\").content\n",
    "    \n",
    "    try:\n",
    "        decomposition = json.loads(re.search(r'\\{.*\\}', query_decomposition, re.DOTALL).group())\n",
    "        aql_component = decomposition.get('aql_component', '')\n",
    "        networkx_component = decomposition.get('networkx_component', '')\n",
    "        integration_strategy = decomposition.get('integration_strategy', '')\n",
    "    except:\n",
    "        # Default decomposition if parsing fails\n",
    "        aql_component = f\"Retrieve relevant data for: {query}\"\n",
    "        networkx_component = f\"Analyze patterns in the data for: {query}\"\n",
    "        integration_strategy = \"Combine the results to provide insights\"\n",
    "    \n",
    "    # Step 1: Execute AQL query to get base data\n",
    "    aql_result = execute_aql_query(aql_component, parameters, context)\n",
    "    \n",
    "    # Step 2: Prepare NetworkX analysis with context from AQL results\n",
    "    enhanced_context = {\n",
    "        **context,\n",
    "        \"aql_results\": aql_result.get(\"result\", \"\")\n",
    "    }\n",
    "    \n",
    "    # Step 3: Execute NetworkX analysis\n",
    "    networkx_result = execute_networkx_query(networkx_component, parameters, enhanced_context)\n",
    "    \n",
    "    # Step 4: Integrate results\n",
    "    integration_prompt = f\"\"\"\n",
    "    I executed a hybrid analysis on a medical knowledge graph using both AQL and NetworkX:\n",
    "    \n",
    "    Original query: \"{query}\"\n",
    "    \n",
    "    AQL component result: {aql_result.get('result', '')}\n",
    "    \n",
    "    NetworkX component result: {networkx_result.get('result', '')}\n",
    "    \n",
    "    Integration strategy: {integration_strategy}\n",
    "    \n",
    "    Please integrate these results to provide a comprehensive answer.\n",
    "    Focus on insights related to rare disease patterns, unusual symptoms, or diagnostic pathways.\n",
    "    \n",
    "    Return your integrated analysis in a structured JSON format with medical insights.\n",
    "    \"\"\"\n",
    "    \n",
    "    integrated_result = llm.invoke(integration_prompt).content\n",
    "    \n",
    "    try:\n",
    "        integrated_data = json.loads(re.search(r'\\{.*\\}', integrated_result, re.DOTALL).group())\n",
    "        return {\n",
    "            \"result\": integrated_result,\n",
    "            \"structured_data\": integrated_data,\n",
    "            \"aql_component\": aql_result,\n",
    "            \"networkx_component\": networkx_result,\n",
    "            \"query_type\": \"Hybrid\",\n",
    "            \"original_query\": query\n",
    "        }\n",
    "    except:\n",
    "        return {\n",
    "            \"result\": integrated_result,\n",
    "            \"aql_component\": aql_result,\n",
    "            \"networkx_component\": networkx_result,\n",
    "            \"query_type\": \"Hybrid\",\n",
    "            \"original_query\": query\n",
    "        }"
   ]
  },
  {
   "cell_type": "code",
   "execution_count": 11,
   "metadata": {
    "execution": {
     "iopub.execute_input": "2025-03-05T20:23:37.656780Z",
     "iopub.status.busy": "2025-03-05T20:23:37.656493Z",
     "iopub.status.idle": "2025-03-05T20:23:37.680852Z",
     "shell.execute_reply": "2025-03-05T20:23:37.679953Z",
     "shell.execute_reply.started": "2025-03-05T20:23:37.656748Z"
    },
    "trusted": true
   },
   "outputs": [],
   "source": [
    "@tool\n",
    "def analyze_patient_symptoms(patient_spec: dict):\n",
    "    \"\"\"\n",
    "    Advanced patient symptom analyzer for rare disease identification.\n",
    "    \n",
    "    Parameters:\n",
    "    - patient_spec: A dictionary containing:\n",
    "      - patient_id: Optional patient ID\n",
    "      - symptoms: Optional list of symptoms to analyze\n",
    "      - metadata: Optional additional information\n",
    "      - analysis_type: Analysis type (\"rare_disease\", \"evidence_path\", \n",
    "                       \"similar_cases\", \"progression\")\n",
    "    \"\"\"\n",
    "    # Extract patient specification\n",
    "    patient_id = patient_spec.get('patient_id')\n",
    "    symptoms = patient_spec.get('symptoms', [])\n",
    "    metadata = patient_spec.get('metadata', {})\n",
    "    analysis_type = patient_spec.get('analysis_type', 'rare_disease')\n",
    "    \n",
    "    results = {}\n",
    "    \n",
    "    # Symptom-based analysis (no patient ID)\n",
    "    if not patient_id and symptoms:\n",
    "        # Convert symptoms to codes if needed\n",
    "        symptom_codes = []\n",
    "        for symptom in symptoms:\n",
    "            if not str(symptom).isdigit():\n",
    "                # Find SNOMED codes for symptom descriptions\n",
    "                aql_query = f\"\"\"\n",
    "                FOR obs IN observations\n",
    "                    FILTER LOWER(obs.DESCRIPTION) LIKE LOWER(\"%{symptom}%\")\n",
    "                    RETURN DISTINCT obs.CODE\n",
    "                \"\"\"\n",
    "                cursor = db.aql.execute(aql_query)\n",
    "                codes = [doc for doc in cursor]\n",
    "                if codes:\n",
    "                    symptom_codes.extend(codes)\n",
    "            else:\n",
    "                symptom_codes.append(symptom)\n",
    "        \n",
    "        # Find rare conditions associated with these symptoms\n",
    "        aql_query = f\"\"\"\n",
    "        LET symptom_codes = {symptom_codes}\n",
    "        \n",
    "        // Find patients with these symptoms\n",
    "        LET patients_with_symptoms = (\n",
    "            FOR obs IN observations\n",
    "                FILTER obs.CODE IN symptom_codes\n",
    "                RETURN DISTINCT obs.PATIENT\n",
    "        )\n",
    "        \n",
    "        // Find conditions these patients have\n",
    "        LET conditions = (\n",
    "            FOR patient IN patients_with_symptoms\n",
    "                FOR cond IN conditions\n",
    "                    FILTER cond.PATIENT == patient\n",
    "                    COLLECT code = cond.CODE, description = cond.DESCRIPTION\n",
    "                    WITH COUNT INTO count\n",
    "                    SORT count ASC\n",
    "                    RETURN {{\n",
    "                        code: code,\n",
    "                        description: description,\n",
    "                        patient_count: count,\n",
    "                        prevalence: count / LENGTH(patients_with_symptoms)\n",
    "                    }}\n",
    "        )\n",
    "        \n",
    "        // Return relatively rare conditions\n",
    "        FOR cond IN conditions\n",
    "            FILTER cond.patient_count <= 0.1 * LENGTH(patients_with_symptoms)\n",
    "            SORT cond.patient_count ASC\n",
    "            LIMIT 10\n",
    "            RETURN cond\n",
    "        \"\"\"\n",
    "        \n",
    "        cursor = db.aql.execute(aql_query)\n",
    "        results[\"potential_rare_conditions\"] = [doc for doc in cursor]\n",
    "        results[\"symptom_analysis\"] = {\n",
    "            \"input_symptoms\": symptoms,\n",
    "            \"symptom_codes_identified\": symptom_codes,\n",
    "            \"analysis_type\": \"symptom-based\"\n",
    "        }\n",
    "    \n",
    "    # Patient ID-based analysis\n",
    "    elif patient_id:\n",
    "        # Get patient observations\n",
    "        aql_query = f\"\"\"\n",
    "        FOR obs IN observations\n",
    "            FILTER obs.PATIENT == \"{patient_id}\"\n",
    "            SORT obs.DATE\n",
    "            RETURN {{\n",
    "                code: obs.CODE,\n",
    "                description: obs.DESCRIPTION,\n",
    "                date: obs.DATE,\n",
    "                value: obs.VALUE\n",
    "            }}\n",
    "        \"\"\"\n",
    "        cursor = db.aql.execute(aql_query)\n",
    "        patient_observations = [doc for doc in cursor]\n",
    "        \n",
    "        # Get patient conditions\n",
    "        aql_query = f\"\"\"\n",
    "        FOR c IN conditions\n",
    "            FILTER c.PATIENT == \"{patient_id}\"\n",
    "            RETURN {{\n",
    "                code: c.CODE,\n",
    "                description: c.DESCRIPTION,\n",
    "                start: c.START,\n",
    "                stop: c.STOP\n",
    "            }}\n",
    "        \"\"\"\n",
    "        cursor = db.aql.execute(aql_query)\n",
    "        patient_conditions = [doc for doc in cursor]\n",
    "        \n",
    "        results[\"patient_data\"] = {\n",
    "            \"observations\": patient_observations,\n",
    "            \"conditions\": patient_conditions,\n",
    "            \"patient_id\": patient_id\n",
    "        }\n",
    "        \n",
    "        # Analyze based on analysis type\n",
    "        if analysis_type == \"evidence_path\":\n",
    "            # Find rarest condition if not specified\n",
    "            if \"condition_id\" not in metadata:\n",
    "                aql_query = f\"\"\"\n",
    "                FOR c IN conditions\n",
    "                    FILTER c.PATIENT == \"{patient_id}\"\n",
    "                    LET condition_count = (\n",
    "                        FOR c2 IN conditions\n",
    "                            FILTER c2.CODE == c.CODE\n",
    "                            COLLECT WITH COUNT INTO count\n",
    "                            RETURN count\n",
    "                    )\n",
    "                    SORT condition_count[0] ASC\n",
    "                    LIMIT 1\n",
    "                    RETURN {{\n",
    "                        code: c.CODE,\n",
    "                        description: c.DESCRIPTION,\n",
    "                        count: condition_count[0]\n",
    "                    }}\n",
    "                \"\"\"\n",
    "                cursor = db.aql.execute(aql_query)\n",
    "                rare_condition = [doc for doc in cursor][0] if cursor else None\n",
    "                \n",
    "                if rare_condition:\n",
    "                    metadata[\"condition_id\"] = rare_condition[\"code\"]\n",
    "            \n",
    "            # Create evidence path visualization\n",
    "            if \"condition_id\" in metadata:\n",
    "                condition_id = metadata[\"condition_id\"]\n",
    "                # Create a subgraph showing evidence path\n",
    "                G = nx.DiGraph()\n",
    "                \n",
    "                # Get condition information\n",
    "                condition_info = None\n",
    "                for c in patient_conditions:\n",
    "                    if str(c[\"code\"]) == str(condition_id):\n",
    "                        condition_info = c\n",
    "                        break\n",
    "                \n",
    "                if condition_info:\n",
    "                    # Add condition node\n",
    "                    G.add_node(f\"condition_{condition_info['code']}\", \n",
    "                              label=condition_info['description'],\n",
    "                              type=\"condition\",\n",
    "                              date=condition_info['start'])\n",
    "                    \n",
    "                    # Add observation nodes and edges\n",
    "                    for obs in patient_observations:\n",
    "                        if \"date\" in obs:\n",
    "                            G.add_node(f\"obs_{obs['code']}_{obs['date']}\", \n",
    "                                      label=obs['description'],\n",
    "                                      value=obs.get('value', 'N/A'),\n",
    "                                      type=\"observation\",\n",
    "                                      date=obs['date'])\n",
    "                            \n",
    "                            # Connect if observation came before diagnosis\n",
    "                            if obs['date'] <= condition_info['start']:\n",
    "                                G.add_edge(f\"obs_{obs['code']}_{obs['date']}\", \n",
    "                                          f\"condition_{condition_info['code']}\")\n",
    "                    \n",
    "                    # Store graph information\n",
    "                    results[\"evidence_path\"] = {\n",
    "                        \"condition\": condition_info,\n",
    "                        \"node_count\": len(G.nodes()),\n",
    "                        \"edge_count\": len(G.edges()),\n",
    "                        \"graph\": G\n",
    "                    }\n",
    "                \n",
    "        elif analysis_type == \"similar_cases\":\n",
    "            # Find similar patients with rare diseases\n",
    "            patient_obs_codes = [obs[\"code\"] for obs in patient_observations]\n",
    "            \n",
    "            # Get all patients and their observations\n",
    "            aql_query = f\"\"\"\n",
    "            LET all_patients = (\n",
    "                FOR p IN patients\n",
    "                    RETURN DISTINCT p._key\n",
    "            )\n",
    "            \n",
    "            FOR patient_id IN all_patients\n",
    "                LET patient_obs = (\n",
    "                    FOR obs IN observations\n",
    "                        FILTER obs.PATIENT == patient_id\n",
    "                        RETURN DISTINCT obs.CODE\n",
    "                )\n",
    "                \n",
    "                LET rare_conditions = (\n",
    "                    FOR c IN conditions\n",
    "                        FILTER c.PATIENT == patient_id\n",
    "                        // Count occurrences of this condition\n",
    "                        LET condition_count = (\n",
    "                            FOR c2 IN conditions\n",
    "                                FILTER c2.CODE == c.CODE\n",
    "                                COLLECT WITH COUNT INTO count\n",
    "                                RETURN count\n",
    "                        )\n",
    "                        // Only keep conditions in <5% of patients\n",
    "                        FILTER condition_count[0] <= 0.05 * LENGTH(all_patients)\n",
    "                        RETURN {{\n",
    "                            code: c.CODE,\n",
    "                            description: c.DESCRIPTION\n",
    "                        }}\n",
    "                )\n",
    "                \n",
    "                // Only include patients with rare conditions\n",
    "                FILTER LENGTH(rare_conditions) > 0\n",
    "                \n",
    "                // Calculate Jaccard similarity\n",
    "                LET jaccard_similarity = LENGTH(INTERSECTION(patient_obs, {patient_obs_codes})) / \n",
    "                                      LENGTH(UNION(patient_obs, {patient_obs_codes}))\n",
    "                                      \n",
    "                SORT jaccard_similarity DESC\n",
    "                LIMIT {metadata.get('top_k', 5) + 1}  // +1 for patient themselves\n",
    "                \n",
    "                RETURN {{\n",
    "                    patient_id: patient_id,\n",
    "                    similarity: jaccard_similarity,\n",
    "                    rare_conditions: rare_conditions,\n",
    "                    shared_observation_count: LENGTH(INTERSECTION(patient_obs, {patient_obs_codes})),\n",
    "                    total_observation_count: LENGTH(patient_obs)\n",
    "                }}\n",
    "            \"\"\"\n",
    "            \n",
    "            cursor = db.aql.execute(aql_query)\n",
    "            similar_patients = [doc for doc in cursor]\n",
    "            \n",
    "            # Filter out query patient\n",
    "            similar_patients = [p for p in similar_patients if p['patient_id'] != patient_id][:metadata.get('top_k', 5)]\n",
    "            \n",
    "            results[\"similar_cases\"] = {\n",
    "                \"similar_patients\": similar_patients,\n",
    "                \"query_patient_id\": patient_id\n",
    "            }\n",
    "            \n",
    "        elif analysis_type == \"progression\":\n",
    "            # Analyze disease progression patterns\n",
    "            timeline = []\n",
    "            \n",
    "            # Add observations to timeline\n",
    "            for obs in patient_observations:\n",
    "                if \"date\" in obs:\n",
    "                    timeline.append({\n",
    "                        \"date\": obs[\"date\"],\n",
    "                        \"event_type\": \"observation\",\n",
    "                        \"description\": obs[\"description\"],\n",
    "                        \"code\": obs[\"code\"],\n",
    "                        \"value\": obs.get(\"value\", \"\")\n",
    "                    })\n",
    "            \n",
    "            # Add conditions to timeline\n",
    "            for cond in patient_conditions:\n",
    "                if \"start\" in cond:\n",
    "                    timeline.append({\n",
    "                        \"date\": cond[\"start\"],\n",
    "                        \"event_type\": \"condition_start\",\n",
    "                        \"description\": cond[\"description\"],\n",
    "                        \"code\": cond[\"code\"]\n",
    "                    })\n",
    "                \n",
    "                if \"stop\" in cond and cond[\"stop\"]:\n",
    "                    timeline.append({\n",
    "                        \"date\": cond[\"stop\"],\n",
    "                        \"event_type\": \"condition_end\",\n",
    "                        \"description\": cond[\"description\"],\n",
    "                        \"code\": cond[\"code\"]\n",
    "                    })\n",
    "            \n",
    "            # Sort timeline by date\n",
    "            timeline.sort(key=lambda x: x[\"date\"])\n",
    "            \n",
    "            results[\"progression_analysis\"] = {\n",
    "                \"timeline\": timeline,\n",
    "                \"patient_id\": patient_id\n",
    "            }\n",
    "        \n",
    "        else:  # Default to rare disease analysis\n",
    "            # Identify rare conditions for this patient\n",
    "            aql_query = f\"\"\"\n",
    "            LET all_patients = (\n",
    "                FOR p IN patients\n",
    "                    RETURN DISTINCT p._key\n",
    "            )\n",
    "            \n",
    "            FOR c IN conditions\n",
    "                FILTER c.PATIENT == \"{patient_id}\"\n",
    "                // Get count of this condition across patients\n",
    "                LET condition_count = (\n",
    "                    FOR c2 IN conditions\n",
    "                        FILTER c2.CODE == c.CODE\n",
    "                        COLLECT WITH COUNT INTO count\n",
    "                        RETURN count\n",
    "                )\n",
    "                // Calculate rarity\n",
    "                LET rarity = 1 - (condition_count[0] / LENGTH(all_patients))\n",
    "                // Only return rare conditions\n",
    "                FILTER rarity >= 0.9\n",
    "                SORT rarity DESC\n",
    "                RETURN {{\n",
    "                    code: c.CODE,\n",
    "                    description: c.DESCRIPTION,\n",
    "                    rarity: rarity,\n",
    "                    patient_count: condition_count[0],\n",
    "                    total_patients: LENGTH(all_patients)\n",
    "                }}\n",
    "            \"\"\"\n",
    "            \n",
    "            cursor = db.aql.execute(aql_query)\n",
    "            rare_conditions = [doc for doc in cursor]\n",
    "            \n",
    "            results[\"rare_disease_analysis\"] = {\n",
    "                \"rare_conditions\": rare_conditions,\n",
    "                \"patient_id\": patient_id\n",
    "            }\n",
    "    \n",
    "    # Enhance results with LLM insights\n",
    "    analysis_prompt = f\"\"\"\n",
    "    I'm analyzing medical data for potential rare disease patterns:\n",
    "    \n",
    "    {results}\n",
    "    \n",
    "    Provide a clinical interpretation in the context of rare disease diagnosis.\n",
    "    Focus on:\n",
    "    1. Key patterns or insights\n",
    "    2. Potential rare disease indications\n",
    "    3. Suggested next steps for investigation\n",
    "    \n",
    "    Format as JSON with structured fields for different aspects.\n",
    "    \"\"\"\n",
    "    \n",
    "    analysis_result = llm.invoke(analysis_prompt).content\n",
    "    \n",
    "    try:\n",
    "        interpretation = json.loads(re.search(r'\\{.*\\}', analysis_result, re.DOTALL).group())\n",
    "        results[\"interpretation\"] = interpretation\n",
    "    except:\n",
    "        results[\"interpretation\"] = analysis_result\n",
    "    \n",
    "    return results"
   ]
  },
  {
   "cell_type": "code",
   "execution_count": 12,
   "metadata": {
    "execution": {
     "iopub.execute_input": "2025-03-05T20:23:37.682021Z",
     "iopub.status.busy": "2025-03-05T20:23:37.681726Z",
     "iopub.status.idle": "2025-03-05T20:23:37.732342Z",
     "shell.execute_reply": "2025-03-05T20:23:37.731431Z",
     "shell.execute_reply.started": "2025-03-05T20:23:37.681997Z"
    },
    "trusted": true
   },
   "outputs": [],
   "source": [
    "@tool\n",
    "def generate_medical_visualization(visualization_spec: dict):\n",
    "    \"\"\"\n",
    "    High-quality medical visualization generator that adapts to data type.\n",
    "    \n",
    "    Parameters:\n",
    "    - visualization_spec: A dictionary with:\n",
    "      - data: Data to visualize\n",
    "      - type: Visualization type (\"network\", \"timeline\", \"heatmap\", \"auto\")\n",
    "      - title: Title for the visualization\n",
    "      - context: Contextual information for visualization\n",
    "    \"\"\"\n",
    "    # Extract visualization specification\n",
    "    data = visualization_spec.get('data', {})\n",
    "    viz_type = visualization_spec.get('type', 'auto')\n",
    "    title = visualization_spec.get('title', 'Medical Data Visualization')\n",
    "    context = visualization_spec.get('context', {})\n",
    "    \n",
    "    # Determine best visualization if auto\n",
    "    if viz_type == 'auto':\n",
    "        if isinstance(data, nx.Graph) or 'graph' in data or ('nodes' in data and 'edges' in data):\n",
    "            viz_type = 'network'\n",
    "        elif 'timeline' in data or any('date' in str(item) for item in data):\n",
    "            viz_type = 'timeline'\n",
    "        elif 'matrix' in data or 'heatmap' in data:\n",
    "            viz_type = 'heatmap'\n",
    "        else:\n",
    "            viz_type = 'network'  # Default for medical data\n",
    "    \n",
    "    # Create appropriate visualization\n",
    "    if viz_type == 'network':\n",
    "        return create_network_visualization(data, title, context)\n",
    "    elif viz_type == 'timeline':\n",
    "        return create_timeline_visualization(data, title, context)\n",
    "    elif viz_type == 'heatmap':\n",
    "        return create_heatmap_visualization(data, title, context)\n",
    "    elif viz_type == 'sankey':\n",
    "        return create_sankey_visualization(data, title, context)\n",
    "    else:\n",
    "        return {\"error\": f\"Unsupported visualization type: {viz_type}\"}"
   ]
  },
  {
   "cell_type": "code",
   "execution_count": 21,
   "metadata": {
    "execution": {
     "iopub.execute_input": "2025-03-05T20:32:46.955032Z",
     "iopub.status.busy": "2025-03-05T20:32:46.954668Z",
     "iopub.status.idle": "2025-03-05T20:32:46.988617Z",
     "shell.execute_reply": "2025-03-05T20:32:46.987489Z",
     "shell.execute_reply.started": "2025-03-05T20:32:46.955002Z"
    },
    "trusted": true
   },
   "outputs": [],
   "source": [
    "import plotly.graph_objects as go\n",
    "\n",
    "def create_network_visualization(data, title, context):\n",
    "    \"\"\"Create network visualization using Matplotlib instead of Plotly\"\"\"\n",
    "    # Extract or create graph structure\n",
    "    if isinstance(data, nx.Graph):\n",
    "        G = data\n",
    "    elif 'graph' in data and isinstance(data['graph'], nx.Graph):\n",
    "        G = data['graph']\n",
    "    elif 'nodes' in data and 'edges' in data:\n",
    "        G = nx.Graph()\n",
    "        for node in data['nodes']:\n",
    "            G.add_node(node['id'], **{k: v for k, v in node.items() if k != 'id'})\n",
    "        for edge in data['edges']:\n",
    "            G.add_edge(edge['source'], edge['target'], **{k: v for k, v in edge.items() \n",
    "                                                       if k not in ['source', 'target']})\n",
    "    else:\n",
    "        # Create a default medical knowledge graph\n",
    "        G = nx.Graph()\n",
    "        \n",
    "        # Add some nodes and edges based on context\n",
    "        condition = context.get('condition', 'Unknown Condition')\n",
    "        G.add_node('condition', label=condition, type='condition')\n",
    "        \n",
    "        symptoms = context.get('symptoms', ['Symptom 1', 'Symptom 2', 'Symptom 3'])\n",
    "        for i, symptom in enumerate(symptoms):\n",
    "            G.add_node(f'symptom_{i}', label=symptom, type='symptom')\n",
    "            G.add_edge(f'symptom_{i}', 'condition', type='indicates')\n",
    "    \n",
    "    # Get positions for nodes using spring layout\n",
    "    pos = nx.spring_layout(G, seed=42)\n",
    "    \n",
    "    # Create figure\n",
    "    plt.figure(figsize=(12, 8))\n",
    "    \n",
    "    # Map node types to colors\n",
    "    color_map = {\n",
    "        'condition': 'red',\n",
    "        'symptom': 'blue',\n",
    "        'observation': 'blue',\n",
    "        'medication': 'green',\n",
    "        'procedure': 'purple',\n",
    "        'allergy': 'orange',\n",
    "        'patient': 'yellow',\n",
    "        'unknown': 'gray'\n",
    "    }\n",
    "    \n",
    "    # Group nodes by type for better visualization\n",
    "    node_types = {}\n",
    "    for node in G.nodes():\n",
    "        node_type = G.nodes[node].get('type', 'unknown')\n",
    "        if node_type not in node_types:\n",
    "            node_types[node_type] = []\n",
    "        node_types[node_type].append(node)\n",
    "    \n",
    "    # Draw edges\n",
    "    nx.draw_networkx_edges(G, pos, alpha=0.3, edge_color='gray')\n",
    "    \n",
    "    # Draw nodes by type with different colors\n",
    "    for node_type, nodes in node_types.items():\n",
    "        color = color_map.get(node_type, 'gray')\n",
    "        nx.draw_networkx_nodes(G, pos, \n",
    "                              nodelist=nodes, \n",
    "                              node_color=color,\n",
    "                              node_size=500,\n",
    "                              alpha=0.8,\n",
    "                              label=node_type)\n",
    "    \n",
    "    # Add labels\n",
    "    node_labels = {}\n",
    "    for node in G.nodes():\n",
    "        if 'label' in G.nodes[node]:\n",
    "            node_labels[node] = G.nodes[node]['label']\n",
    "        else:\n",
    "            node_labels[node] = str(node)\n",
    "    \n",
    "    nx.draw_networkx_labels(G, pos, labels=node_labels, font_size=10, font_color='black')\n",
    "    \n",
    "    # Add legend\n",
    "    plt.legend()\n",
    "    \n",
    "    # Add title and remove axes\n",
    "    plt.title(title, fontsize=15)\n",
    "    plt.axis('off')\n",
    "    \n",
    "    # Save visualization to file\n",
    "    img_path = f\"{title.replace(' ', '_').lower()}.png\"\n",
    "    plt.savefig(img_path, dpi=300, bbox_inches='tight')\n",
    "    plt.close()\n",
    "    \n",
    "    return {\n",
    "        \"image_path\": img_path,\n",
    "        \"node_count\": len(G.nodes()),\n",
    "        \"edge_count\": len(G.edges()),\n",
    "        \"visualization_type\": \"network\"\n",
    "    }\n",
    "def create_timeline_visualization(data, title, context):\n",
    "    \"\"\"Create interactive timeline visualization for disease progression\"\"\"\n",
    "    # Extract timeline data\n",
    "    if 'timeline' in data:\n",
    "        timeline_data = data['timeline']\n",
    "    else:\n",
    "        timeline_data = data\n",
    "    \n",
    "    # Ensure timeline_data is a list\n",
    "    if not isinstance(timeline_data, list):\n",
    "        return {\"error\": \"Timeline data must be a list of events\"}\n",
    "    \n",
    "    # Sort timeline by date if not already sorted\n",
    "    timeline_data.sort(key=lambda x: x.get('date', ''))\n",
    "    \n",
    "    # Prepare data for plotting\n",
    "    df = pd.DataFrame(timeline_data)\n",
    "    \n",
    "    # If dataframe doesn't have certain columns, add defaults\n",
    "    if 'date' not in df.columns:\n",
    "        return {\"error\": \"Timeline data must contain 'date' field\"}\n",
    "    \n",
    "    if 'event_type' not in df.columns:\n",
    "        df['event_type'] = 'event'\n",
    "        \n",
    "    if 'description' not in df.columns:\n",
    "        df['description'] = 'Unknown event'\n",
    "    \n",
    "    # Map event types to colors\n",
    "    color_map = {\n",
    "        'condition_start': 'red',\n",
    "        'condition_end': 'orange',\n",
    "        'observation': 'blue',\n",
    "        'medication_start': 'green',\n",
    "        'medication_end': 'lightgreen',\n",
    "        'procedure': 'purple',\n",
    "        'event': 'gray'\n",
    "    }\n",
    "    \n",
    "    # Create interactive timeline using Plotly\n",
    "    fig = px.scatter(df, x='date', y='event_type', \n",
    "                   color='event_type', hover_name='description',\n",
    "                   color_discrete_map=color_map,\n",
    "                   title=title)\n",
    "    \n",
    "    # Add details to hover\n",
    "    hover_template = \"<b>%{hovertext}</b><br>Date: %{x}<br>Type: %{y}<br>\"\n",
    "    if 'value' in df.columns:\n",
    "        hover_template += \"Value: %{customdata}<br>\"\n",
    "        fig.update_traces(customdata=df['value'])\n",
    "    if 'code' in df.columns:\n",
    "        hover_template += \"Code: %{customdata}<br>\"\n",
    "        fig.update_traces(customdata=df['code'])\n",
    "        \n",
    "    fig.update_traces(hovertemplate=hover_template)\n",
    "    \n",
    "    # Customize layout\n",
    "    fig.update_layout(\n",
    "        xaxis_title=\"Time\",\n",
    "        yaxis_title=\"Event Type\",\n",
    "        legend_title=\"Event Type\",\n",
    "        template=\"plotly_white\",\n",
    "        height=600\n",
    "    )\n",
    "    \n",
    "    # Add connecting lines for progression\n",
    "    fig.update_layout(\n",
    "        shapes=[\n",
    "            dict(\n",
    "                type=\"line\",\n",
    "                xref=\"x\", yref=\"paper\",\n",
    "                x0=df['date'][i], y0=0, \n",
    "                x1=df['date'][i], y1=1,\n",
    "                line=dict(\n",
    "                    color=\"Gray\",\n",
    "                    width=1,\n",
    "                    dash=\"dot\",\n",
    "                )\n",
    "            )\n",
    "            for i in range(len(df))\n",
    "        ]\n",
    "    )\n",
    "    \n",
    "    # Save visualization to HTML file\n",
    "    output_path = f\"{title.replace(' ', '_').lower()}.html\"\n",
    "    fig.write_html(output_path)\n",
    "    \n",
    "    # Also save a static image\n",
    "    img_path = f\"{title.replace(' ', '_').lower()}.png\"\n",
    "    fig.write_image(img_path)\n",
    "    \n",
    "    return {\n",
    "        \"visualization_path\": output_path,\n",
    "        \"image_path\": img_path,\n",
    "        \"event_count\": len(timeline_data),\n",
    "        \"visualization_type\": \"timeline\"\n",
    "    }\n",
    "\n",
    "def create_heatmap_visualization(data, title, context):\n",
    "    \"\"\"Create heatmap visualization for symptom-disease relationships\"\"\"\n",
    "    # Extract heatmap data\n",
    "    if 'matrix' in data:\n",
    "        matrix_data = data['matrix']\n",
    "        row_labels = data.get('row_labels', [])\n",
    "        col_labels = data.get('col_labels', [])\n",
    "    elif isinstance(data, pd.DataFrame):\n",
    "        matrix_data = data.values\n",
    "        row_labels = data.index.tolist()\n",
    "        col_labels = data.columns.tolist()\n",
    "    else:\n",
    "        # Try to construct a heatmap from available data\n",
    "        matrix_data = []\n",
    "        row_labels = []\n",
    "        col_labels = []\n",
    "        \n",
    "        # This is a fallback if proper matrix data isn't provided\n",
    "        if context.get('symptoms') and context.get('conditions'):\n",
    "            symptoms = context.get('symptoms', [])\n",
    "            conditions = context.get('conditions', [])\n",
    "            \n",
    "            # Create an empty matrix\n",
    "            matrix_data = np.zeros((len(symptoms), len(conditions)))\n",
    "            row_labels = symptoms\n",
    "            col_labels = conditions\n",
    "            \n",
    "            # Fill with random data as placeholder\n",
    "            for i in range(len(symptoms)):\n",
    "                for j in range(len(conditions)):\n",
    "                    matrix_data[i][j] = np.random.random()\n",
    "        else:\n",
    "            # Complete fallback with placeholder data\n",
    "            symptoms = [\"Symptom 1\", \"Symptom 2\", \"Symptom 3\", \"Symptom 4\", \"Symptom 5\"]\n",
    "            conditions = [\"Disease A\", \"Disease B\", \"Disease C\", \"Disease D\", \"Disease E\"]\n",
    "            \n",
    "            matrix_data = np.random.rand(len(symptoms), len(conditions))\n",
    "            row_labels = symptoms\n",
    "            col_labels = conditions\n",
    "    \n",
    "    # Create heatmap visualization using Plotly\n",
    "    fig = go.Figure(data=go.Heatmap(\n",
    "        z=matrix_data,\n",
    "        x=col_labels,\n",
    "        y=row_labels,\n",
    "        colorscale='Blues',\n",
    "        hovertemplate='%{y} → %{x}: %{z:.3f}<extra></extra>'\n",
    "    ))\n",
    "    \n",
    "    # Customize layout\n",
    "    fig.update_layout(\n",
    "        title=title,\n",
    "        xaxis=dict(title='Conditions'),\n",
    "        yaxis=dict(title='Symptoms'),\n",
    "        template=\"plotly_white\"\n",
    "    )\n",
    "    \n",
    "    # Save visualization to HTML file\n",
    "    output_path = f\"{title.replace(' ', '_').lower()}.html\"\n",
    "    fig.write_html(output_path)\n",
    "    \n",
    "    # Also save a static image\n",
    "    img_path = f\"{title.replace(' ', '_').lower()}.png\"\n",
    "    fig.write_image(img_path)\n",
    "    \n",
    "    return {\n",
    "        \"visualization_path\": output_path,\n",
    "        \"image_path\": img_path,\n",
    "        \"matrix_dimensions\": f\"{len(matrix_data)}x{len(matrix_data[0]) if matrix_data else 0}\",\n",
    "        \"visualization_type\": \"heatmap\"\n",
    "    }\n",
    "\n",
    "def create_sankey_visualization(data, title, context):\n",
    "    \"\"\"Create Sankey diagram for patient pathways or disease progression\"\"\"\n",
    "    # Prepare data for Sankey diagram\n",
    "    if 'links' in data and 'nodes' in data:\n",
    "        links = data['links']\n",
    "        nodes = data['nodes']\n",
    "    else:\n",
    "        # Try to construct from pathway data if available\n",
    "        links = []\n",
    "        nodes = []\n",
    "        node_ids = {}\n",
    "        \n",
    "        # Extract pathway data\n",
    "        pathways = data.get('pathways', [])\n",
    "        if not pathways and 'timeline' in data:\n",
    "            # Convert timeline to pathways\n",
    "            events = data['timeline']\n",
    "            events.sort(key=lambda x: x.get('date', ''))\n",
    "            \n",
    "            # Group by patient if applicable\n",
    "            patient_id = context.get('patient_id', 'unknown')\n",
    "            pathways = [{\n",
    "                'patient_id': patient_id,\n",
    "                'events': events\n",
    "            }]\n",
    "        \n",
    "        # Create nodes and links from pathways\n",
    "        node_counter = 0\n",
    "        for pathway in pathways:\n",
    "            events = pathway.get('events', [])\n",
    "            \n",
    "            # Add nodes for each unique event\n",
    "            for event in events:\n",
    "                event_type = event.get('event_type', 'event')\n",
    "                description = event.get('description', 'Unknown')\n",
    "                \n",
    "                # Create a unique node identifier\n",
    "                node_id = f\"{event_type}_{description}\"\n",
    "                \n",
    "                if node_id not in node_ids:\n",
    "                    node_ids[node_id] = node_counter\n",
    "                    nodes.append({\n",
    "                        'id': node_counter,\n",
    "                        'name': description,\n",
    "                        'type': event_type\n",
    "                    })\n",
    "                    node_counter += 1\n",
    "            \n",
    "            # Add links between sequential events\n",
    "            for i in range(len(events) - 1):\n",
    "                source_event = events[i]\n",
    "                target_event = events[i + 1]\n",
    "                \n",
    "                source_id = node_ids[f\"{source_event.get('event_type', 'event')}_{source_event.get('description', 'Unknown')}\"]\n",
    "                target_id = node_ids[f\"{target_event.get('event_type', 'event')}_{target_event.get('description', 'Unknown')}\"]\n",
    "                \n",
    "                # Check if link already exists and increment value if so\n",
    "                link_exists = False\n",
    "                for link in links:\n",
    "                    if link['source'] == source_id and link['target'] == target_id:\n",
    "                        link['value'] += 1\n",
    "                        link_exists = True\n",
    "                        break\n",
    "                \n",
    "                if not link_exists:\n",
    "                    links.append({\n",
    "                        'source': source_id,\n",
    "                        'target': target_id,\n",
    "                        'value': 1\n",
    "                    })\n",
    "    \n",
    "    # Create Sankey diagram\n",
    "    fig = go.Figure(data=[go.Sankey(\n",
    "        node=dict(\n",
    "            pad=15,\n",
    "            thickness=20,\n",
    "            line=dict(color=\"black\", width=0.5),\n",
    "            label=[node.get('name', f\"Node {node['id']}\") for node in nodes],\n",
    "            color=[get_color_for_type(node.get('type', 'unknown')) for node in nodes]\n",
    "        ),\n",
    "        link=dict(\n",
    "            source=[link['source'] for link in links],\n",
    "            target=[link['target'] for link in links],\n",
    "            value=[link['value'] for link in links]\n",
    "        )\n",
    "    )])\n",
    "    \n",
    "    # Customize layout\n",
    "    fig.update_layout(\n",
    "        title=title,\n",
    "        font=dict(size=12),\n",
    "        template=\"plotly_white\"\n",
    "    )\n",
    "    \n",
    "    # Save visualization to HTML file\n",
    "    output_path = f\"{title.replace(' ', '_').lower()}.html\"\n",
    "    fig.write_html(output_path)\n",
    "    \n",
    "    # Also save a static image\n",
    "    img_path = f\"{title.replace(' ', '_').lower()}.png\"\n",
    "    fig.write_image(img_path)\n",
    "    \n",
    "    return {\n",
    "        \"visualization_path\": output_path,\n",
    "        \"image_path\": img_path,\n",
    "        \"node_count\": len(nodes),\n",
    "        \"link_count\": len(links),\n",
    "        \"visualization_type\": \"sankey\"\n",
    "    }\n",
    "\n",
    "def get_color_for_type(event_type):\n",
    "    \"\"\"Helper function to get colors based on event type\"\"\"\n",
    "    color_map = {\n",
    "        'condition': 'rgba(255, 0, 0, 0.8)',\n",
    "        'condition_start': 'rgba(255, 0, 0, 0.8)',\n",
    "        'condition_end': 'rgba(255, 150, 0, 0.8)',\n",
    "        'observation': 'rgba(0, 0, 255, 0.8)',\n",
    "        'medication': 'rgba(0, 128, 0, 0.8)',\n",
    "        'medication_start': 'rgba(0, 128, 0, 0.8)',\n",
    "        'medication_end': 'rgba(144, 238, 144, 0.8)',\n",
    "        'procedure': 'rgba(128, 0, 128, 0.8)',\n",
    "        'symptom': 'rgba(0, 191, 255, 0.8)',\n",
    "        'allergy': 'rgba(255, 165, 0, 0.8)',\n",
    "        'patient': 'rgba(255, 255, 0, 0.8)',\n",
    "        'event': 'rgba(128, 128, 128, 0.8)',\n",
    "        'unknown': 'rgba(128, 128, 128, 0.8)'\n",
    "    }\n",
    "    return color_map.get(event_type.lower(), 'rgba(128, 128, 128, 0.8)')\n",
    "\n"
   ]
  },
  {
   "cell_type": "code",
   "execution_count": 14,
   "metadata": {
    "execution": {
     "iopub.execute_input": "2025-03-05T20:23:37.777365Z",
     "iopub.status.busy": "2025-03-05T20:23:37.777045Z",
     "iopub.status.idle": "2025-03-05T20:23:37.783682Z",
     "shell.execute_reply": "2025-03-05T20:23:37.782621Z",
     "shell.execute_reply.started": "2025-03-05T20:23:37.777334Z"
    },
    "trusted": true
   },
   "outputs": [],
   "source": [
    "def create_rare_disease_agent():\n",
    "    \"\"\"Create an agent with the custom medical tools\"\"\"\n",
    "    tools = [\n",
    "        query_medical_graph,\n",
    "        analyze_patient_symptoms,\n",
    "        generate_medical_visualization\n",
    "    ]\n",
    "    \n",
    "    # Create the agent with LangGraph\n",
    "    agent = create_react_agent(\n",
    "        llm, \n",
    "        tools\n",
    "    )\n",
    "    \n",
    "    return agent"
   ]
  },
  {
   "cell_type": "code",
   "execution_count": 15,
   "metadata": {
    "execution": {
     "iopub.execute_input": "2025-03-05T20:23:37.784775Z",
     "iopub.status.busy": "2025-03-05T20:23:37.784537Z",
     "iopub.status.idle": "2025-03-05T20:23:37.815156Z",
     "shell.execute_reply": "2025-03-05T20:23:37.814220Z",
     "shell.execute_reply.started": "2025-03-05T20:23:37.784744Z"
    },
    "trusted": true
   },
   "outputs": [],
   "source": [
    "rare_disease_agent = create_rare_disease_agent()\n",
    "\n",
    "# Define helper functions to query the agent\n",
    "def query_graph(query):\n",
    "    \"\"\"Run a query through the medical graph agent\"\"\"\n",
    "    response = rare_disease_agent.invoke({\"messages\": [{\"role\": \"user\", \"content\": query}]})\n",
    "    return response[\"messages\"][-1].content"
   ]
  },
  {
   "cell_type": "code",
   "execution_count": 23,
   "metadata": {
    "execution": {
     "iopub.execute_input": "2025-03-05T20:33:32.357581Z",
     "iopub.status.busy": "2025-03-05T20:33:32.357249Z",
     "iopub.status.idle": "2025-03-05T20:33:32.382469Z",
     "shell.execute_reply": "2025-03-05T20:33:32.381399Z",
     "shell.execute_reply.started": "2025-03-05T20:33:32.357559Z"
    },
    "trusted": true
   },
   "outputs": [],
   "source": [
    "def clear_output():\n",
    "    \"\"\"\n",
    "    Clear the output in a Jupyter cell or widget output area.\n",
    "    This is a simplified version for use in the dashboard components.\n",
    "    \"\"\"\n",
    "    from IPython.display import clear_output as ipython_clear_output\n",
    "    \n",
    "    # Call the IPython built-in function with wait=True to prevent flickering\n",
    "    ipython_clear_output(wait=True)\n",
    "\n",
    "def create_dashboard():\n",
    "    \"\"\"Create an interactive dashboard for medical graph exploration\"\"\"\n",
    "    # Create main layout\n",
    "    header = widgets.HTML(\"\"\"\n",
    "    <div style=\"background-color: #1A5276; color: white; padding: 20px; border-radius: 5px; margin-bottom: 20px;\">\n",
    "        <h1 style=\"margin: 0;\">MedGraph Explorer</h1>\n",
    "        <p>Interactive Medical Graph Analysis for Rare Disease Patterns</p>\n",
    "    </div>\n",
    "    \"\"\")\n",
    "    \n",
    "    # Create tabs\n",
    "    tabs = widgets.Tab()\n",
    "    \n",
    "    # Tab 1: Query Explorer\n",
    "    query_input = widgets.Textarea(\n",
    "        value='',\n",
    "        placeholder='Enter your medical query here...',\n",
    "        description='Query:',\n",
    "        disabled=False,\n",
    "        layout=widgets.Layout(width='100%', height='100px')\n",
    "    )\n",
    "    \n",
    "    query_type = widgets.RadioButtons(\n",
    "        options=['Auto', 'AQL', 'NetworkX', 'Hybrid'],\n",
    "        value='Auto',\n",
    "        description='Query Type:',\n",
    "        disabled=False\n",
    "    )\n",
    "    \n",
    "    example_queries = widgets.Dropdown(\n",
    "        options=[\n",
    "            'What are the most common symptoms of autoimmune disorders?',\n",
    "            'Find patients with rare conditions and analyze their symptom patterns',\n",
    "            'Identify clusters of patients with similar rare disease profiles',\n",
    "            'Show the progression timeline for patients with lupus',\n",
    "            'Visualize the relationship between diabetes and heart disease',\n",
    "            'What are the most common comorbidities for rare diseases?'\n",
    "        ],\n",
    "        description='Examples:',\n",
    "        disabled=False,\n",
    "        layout=widgets.Layout(width='100%')\n",
    "    )\n",
    "    \n",
    "    run_button = widgets.Button(\n",
    "        description='Run Query',\n",
    "        button_style='primary',\n",
    "        tooltip='Click to run query',\n",
    "        icon='search'\n",
    "    )\n",
    "    \n",
    "    output_area = widgets.Output()\n",
    "    \n",
    "    # Tab 2: Patient Explorer\n",
    "    patient_id_input = widgets.Text(\n",
    "        value='',\n",
    "        placeholder='Enter patient ID',\n",
    "        description='Patient ID:',\n",
    "        disabled=False,\n",
    "        layout=widgets.Layout(width='50%')\n",
    "    )\n",
    "    \n",
    "    analysis_type = widgets.Dropdown(\n",
    "        options=['rare_disease', 'evidence_path', 'similar_cases', 'progression'],\n",
    "        value='rare_disease',\n",
    "        description='Analysis:',\n",
    "        disabled=False,\n",
    "        layout=widgets.Layout(width='50%')\n",
    "    )\n",
    "    \n",
    "    run_patient_button = widgets.Button(\n",
    "        description='Analyze Patient',\n",
    "        button_style='primary',\n",
    "        tooltip='Click to analyze patient',\n",
    "        icon='user'\n",
    "    )\n",
    "    \n",
    "    patient_output = widgets.Output()\n",
    "    \n",
    "    # Tab 3: Visualization Explorer\n",
    "    viz_type = widgets.Dropdown(\n",
    "        options=['network', 'timeline', 'heatmap', 'sankey', 'auto'],\n",
    "        value='auto',\n",
    "        description='Viz Type:',\n",
    "        disabled=False,\n",
    "        layout=widgets.Layout(width='50%')\n",
    "    )\n",
    "    \n",
    "    viz_title = widgets.Text(\n",
    "        value='Medical Data Visualization',\n",
    "        description='Title:',\n",
    "        disabled=False,\n",
    "        layout=widgets.Layout(width='50%')\n",
    "    )\n",
    "    \n",
    "    viz_data_input = widgets.Textarea(\n",
    "        value='',\n",
    "        placeholder='Enter JSON data for visualization or leave empty to use last query results',\n",
    "        description='Data (optional):',\n",
    "        disabled=False,\n",
    "        layout=widgets.Layout(width='100%', height='100px')\n",
    "    )\n",
    "    \n",
    "    run_viz_button = widgets.Button(\n",
    "        description='Generate Visualization',\n",
    "        button_style='primary',\n",
    "        tooltip='Click to generate visualization',\n",
    "        icon='chart-line'\n",
    "    )\n",
    "    \n",
    "    viz_output = widgets.Output()\n",
    "    \n",
    "    # Tab 4: About & Help\n",
    "    about_content = widgets.HTML(\"\"\"\n",
    "    <div style=\"padding: 20px; background-color: #f8f9fa; border-radius: 5px;\">\n",
    "        <h2>About MedGraph Explorer</h2>\n",
    "        <p>This tool enables advanced exploration of medical data using graph analytics and AI to identify rare disease patterns.</p>\n",
    "        \n",
    "        <h3>Features:</h3>\n",
    "        <ul>\n",
    "            <li><strong>Intelligent Query Processing:</strong> Natural language queries with automatic selection of AQL or graph algorithms</li>\n",
    "            <li><strong>Patient Analysis:</strong> Examine individual patients for rare conditions and symptom patterns</li>\n",
    "            <li><strong>Interactive Visualizations:</strong> Network graphs, timelines, and heatmaps for medical insights</li>\n",
    "            <li><strong>GPU Acceleration:</strong> Leverages NVIDIA cuGraph when available for high-performance analytics</li>\n",
    "        </ul>\n",
    "        \n",
    "        <h3>How to Use:</h3>\n",
    "        <ol>\n",
    "            <li>Enter a natural language query about medical data in the <strong>Query Explorer</strong> tab</li>\n",
    "            <li>Analyze specific patients using the <strong>Patient Explorer</strong> tab</li>\n",
    "            <li>Create custom visualizations in the <strong>Visualization Explorer</strong> tab</li>\n",
    "        </ol>\n",
    "        \n",
    "        <h3>Example Queries:</h3>\n",
    "        <ul>\n",
    "            <li>\"What are the most common initial symptoms for rare autoimmune disorders?\"</li>\n",
    "            <li>\"Find clusters of patients with similar rare disease progression\"</li>\n",
    "            <li>\"Visualize the relationship between symptoms X and condition Y\"</li>\n",
    "        </ul>\n",
    "        \n",
    "        <p><em>Developed for the ArangoDB GraphRAG & NVIDIA cuGraph Hackathon</em></p>\n",
    "    </div>\n",
    "    \"\"\")\n",
    "    \n",
    "    # Assemble tabs\n",
    "    query_tab = widgets.VBox([\n",
    "        example_queries,\n",
    "        query_input,\n",
    "        widgets.HBox([query_type, run_button]),\n",
    "        widgets.HTML(\"<hr>\"),\n",
    "        widgets.HTML(\"<h3>Results:</h3>\"),\n",
    "        output_area\n",
    "    ])\n",
    "    \n",
    "    patient_tab = widgets.VBox([\n",
    "        widgets.HBox([patient_id_input, analysis_type]),\n",
    "        run_patient_button,\n",
    "        widgets.HTML(\"<hr>\"),\n",
    "        widgets.HTML(\"<h3>Patient Analysis:</h3>\"),\n",
    "        patient_output\n",
    "    ])\n",
    "    \n",
    "    viz_tab = widgets.VBox([\n",
    "        widgets.HBox([viz_type, viz_title]),\n",
    "        viz_data_input,\n",
    "        run_viz_button,\n",
    "        widgets.HTML(\"<hr>\"),\n",
    "        widgets.HTML(\"<h3>Visualization:</h3>\"),\n",
    "        viz_output\n",
    "    ])\n",
    "    \n",
    "    about_tab = widgets.VBox([about_content])\n",
    "    \n",
    "    # Set up tabs\n",
    "    tabs.children = [query_tab, patient_tab, viz_tab, about_tab]\n",
    "    tabs.set_title(0, 'Query Explorer')\n",
    "    tabs.set_title(1, 'Patient Explorer')\n",
    "    tabs.set_title(2, 'Visualization')\n",
    "    tabs.set_title(3, 'About & Help')\n",
    "    \n",
    "    # Store for results for later use\n",
    "    latest_results = {'query': None, 'patient': None, 'viz': None}\n",
    "    \n",
    "    # Set up event handlers\n",
    "    def on_example_select(change):\n",
    "        if change['type'] == 'change' and change['name'] == 'value':\n",
    "            query_input.value = change['new']\n",
    "    \n",
    "    def on_run_button_click(b):\n",
    "        with output_area:\n",
    "            clear_output()\n",
    "            print(f\"Running query: {query_input.value}\")\n",
    "            print(f\"Analysis type: {query_type.value}\")\n",
    "            print(\"Processing...\")\n",
    "            \n",
    "            # Prepare query parameters\n",
    "            query_params = {\n",
    "                'query': query_input.value,\n",
    "                'approach': None if query_type.value == 'Auto' else query_type.value.lower()\n",
    "            }\n",
    "            \n",
    "            try:\n",
    "                # Run query through agent\n",
    "                result = rare_disease_agent.invoke({\n",
    "                    \"messages\": [{\n",
    "                        \"role\": \"user\", \n",
    "                        \"content\": f\"Query the medical graph: {json.dumps(query_params)}\"\n",
    "                    }]\n",
    "                })\n",
    "                \n",
    "                # Store result for later use\n",
    "                latest_results['query'] = result[\"messages\"][-1].content\n",
    "                # Display result\n",
    "                clear_output()\n",
    "                display(HTML(f\"<h3>Query Results:</h3><p>{result['messages'][-1].content}</p>\"))\n",
    "                \n",
    "                # Try to extract and display visualization if available\n",
    "                try:\n",
    "                    result_text = result[\"messages\"][-1].content\n",
    "                    if \"visualization_path\" in result_text:\n",
    "                        viz_path_match = re.search(r'\"visualization_path\":\\s*\"([^\"]+)\"', result_text)\n",
    "                        if viz_path_match and os.path.exists(viz_path_match.group(1)):\n",
    "                            viz_path = viz_path_match.group(1)\n",
    "                            if viz_path.endswith('.html'):\n",
    "                                display(HTML(f'<iframe src=\"{viz_path}\" width=\"100%\" height=\"600px\"></iframe>'))\n",
    "                            else:\n",
    "                                display(HTML(f'<img src=\"{viz_path}\" style=\"max-width:100%;\">'))\n",
    "                except Exception as e:\n",
    "                    print(f\"Error displaying visualization: {e}\")\n",
    "            \n",
    "            except Exception as e:\n",
    "                clear_output()\n",
    "                print(f\"Error running query: {e}\")\n",
    "    \n",
    "    def on_run_patient_button_click(b):\n",
    "        with patient_output:\n",
    "            clear_output()\n",
    "            \n",
    "            patient_id = patient_id_input.value.strip()\n",
    "            if not patient_id:\n",
    "                print(\"Please enter a valid patient ID\")\n",
    "                return\n",
    "            \n",
    "            print(f\"Analyzing patient: {patient_id}\")\n",
    "            print(f\"Analysis type: {analysis_type.value}\")\n",
    "            print(\"Processing...\")\n",
    "            \n",
    "            # Prepare patient analysis parameters\n",
    "            patient_params = {\n",
    "                'patient_id': patient_id,\n",
    "                'analysis_type': analysis_type.value\n",
    "            }\n",
    "            \n",
    "            try:\n",
    "                # Run patient analysis through agent\n",
    "                result = rare_disease_agent.invoke({\n",
    "                    \"messages\": [{\n",
    "                        \"role\": \"user\", \n",
    "                        \"content\": f\"Analyze patient symptoms: {json.dumps(patient_params)}\"\n",
    "                    }]\n",
    "                })\n",
    "                \n",
    "                # Store result for later use\n",
    "                latest_results['patient'] = result[\"messages\"][-1].content\n",
    "                \n",
    "                # Display result\n",
    "                clear_output()\n",
    "                display(HTML(f\"<h3>Patient Analysis:</h3><p>{result['messages'][-1].content}</p>\"))\n",
    "                \n",
    "                # Try to extract and display visualization if available\n",
    "                try:\n",
    "                    result_text = result[\"messages\"][-1].content\n",
    "                    if \"visualization_path\" in result_text or \"image_path\" in result_text:\n",
    "                        viz_path_match = re.search(r'\"(visualization_path|image_path)\":\\s*\"([^\"]+)\"', result_text)\n",
    "                        if viz_path_match and os.path.exists(viz_path_match.group(2)):\n",
    "                            viz_path = viz_path_match.group(2)\n",
    "                            if viz_path.endswith('.html'):\n",
    "                                display(HTML(f'<iframe src=\"{viz_path}\" width=\"100%\" height=\"600px\"></iframe>'))\n",
    "                            else:\n",
    "                                display(HTML(f'<img src=\"{viz_path}\" style=\"max-width:100%;\">'))\n",
    "                except Exception as e:\n",
    "                    print(f\"Error displaying visualization: {e}\")\n",
    "            \n",
    "            except Exception as e:\n",
    "                clear_output()\n",
    "                print(f\"Error analyzing patient: {e}\")\n",
    "    \n",
    "    def on_run_viz_button_click(b):\n",
    "        with viz_output:\n",
    "            clear_output()\n",
    "            \n",
    "            print(f\"Generating visualization: {viz_title.value}\")\n",
    "            print(f\"Visualization type: {viz_type.value}\")\n",
    "            print(\"Processing...\")\n",
    "            \n",
    "            # Prepare visualization parameters\n",
    "            viz_params = {\n",
    "                'type': viz_type.value,\n",
    "                'title': viz_title.value\n",
    "            }\n",
    "            \n",
    "            # Use provided data or last query results\n",
    "            if viz_data_input.value.strip():\n",
    "                try:\n",
    "                    viz_params['data'] = json.loads(viz_data_input.value)\n",
    "                except:\n",
    "                    clear_output()\n",
    "                    print(\"Error: Invalid JSON data\")\n",
    "                    return\n",
    "            else:\n",
    "                # Use most recent results\n",
    "                viz_params['data'] = {\n",
    "                    'latest_query': latest_results['query'],\n",
    "                    'latest_patient': latest_results['patient'],\n",
    "                    'latest_viz': latest_results['viz']\n",
    "                }\n",
    "            \n",
    "            try:\n",
    "                # Generate visualization through agent\n",
    "                result = rare_disease_agent.invoke({\n",
    "                    \"messages\": [{\n",
    "                        \"role\": \"user\", \n",
    "                        \"content\": f\"Generate medical visualization: {json.dumps(viz_params)}\"\n",
    "                    }]\n",
    "                })\n",
    "                \n",
    "                # Store result for later use\n",
    "                latest_results['viz'] = result[\"messages\"][-1].content\n",
    "                \n",
    "                # Display result\n",
    "                clear_output()\n",
    "                display(HTML(f\"<h3>Visualization:</h3><p>{result['messages'][-1].content}</p>\"))\n",
    "                \n",
    "                # Try to extract and display visualization\n",
    "                try:\n",
    "                    result_text = result[\"messages\"][-1].content\n",
    "                    if \"visualization_path\" in result_text or \"image_path\" in result_text:\n",
    "                        viz_path_match = re.search(r'\"(visualization_path|image_path)\":\\s*\"([^\"]+)\"', result_text)\n",
    "                        if viz_path_match and os.path.exists(viz_path_match.group(2)):\n",
    "                            viz_path = viz_path_match.group(2)\n",
    "                            if viz_path.endswith('.html'):\n",
    "                                display(HTML(f'<iframe src=\"{viz_path}\" width=\"100%\" height=\"600px\"></iframe>'))\n",
    "                            else:\n",
    "                                display(HTML(f'<img src=\"{viz_path}\" style=\"max-width:100%;\">'))\n",
    "                except Exception as e:\n",
    "                    print(f\"Error displaying visualization: {e}\")\n",
    "            \n",
    "            except Exception as e:\n",
    "                clear_output()\n",
    "                print(f\"Error generating visualization: {e}\")\n",
    "    \n",
    "    # Connect event handlers\n",
    "    example_queries.observe(on_example_select, names='value')\n",
    "    run_button.on_click(on_run_button_click)\n",
    "    run_patient_button.on_click(on_run_patient_button_click)\n",
    "    run_viz_button.on_click(on_run_viz_button_click)\n",
    "    \n",
    "    # Assemble dashboard\n",
    "    dashboard = widgets.VBox([header, tabs])\n",
    "    return dashboard"
   ]
  },
  {
   "cell_type": "code",
   "execution_count": 24,
   "metadata": {
    "execution": {
     "iopub.execute_input": "2025-03-05T20:33:38.662692Z",
     "iopub.status.busy": "2025-03-05T20:33:38.662358Z",
     "iopub.status.idle": "2025-03-05T20:33:38.734403Z",
     "shell.execute_reply": "2025-03-05T20:33:38.733349Z",
     "shell.execute_reply.started": "2025-03-05T20:33:38.662665Z"
    },
    "trusted": true
   },
   "outputs": [
    {
     "data": {
      "application/vnd.jupyter.widget-view+json": {
       "model_id": "d70ed6e9eef94472a18d160b4d1e1ed3",
       "version_major": 2,
       "version_minor": 0
      },
      "text/plain": [
       "VBox(children=(HTML(value='\\n    <div style=\"background-color: #1A5276; color: white; padding: 20px; border-ra…"
      ]
     },
     "metadata": {},
     "output_type": "display_data"
    }
   ],
   "source": [
    "dashboard = create_dashboard()\n",
    "display(dashboard)"
   ]
  },
  {
   "cell_type": "code",
   "execution_count": null,
   "metadata": {
    "execution": {
     "iopub.status.busy": "2025-03-05T20:23:38.123887Z",
     "iopub.status.idle": "2025-03-05T20:23:38.124210Z",
     "shell.execute_reply": "2025-03-05T20:23:38.124089Z"
    },
    "trusted": true
   },
   "outputs": [],
   "source": [
    "def generate_visualization_directly(viz_spec):\n",
    "    \"\"\"Helper function to call the visualization tool directly without tool validation\"\"\"\n",
    "    data = viz_spec.get('data', {})\n",
    "    viz_type = viz_spec.get('type', 'auto')\n",
    "    title = viz_spec.get('title', 'Medical Data Visualization')\n",
    "    context = viz_spec.get('context', {})\n",
    "    \n",
    "    # Determine best visualization if auto\n",
    "    if viz_type == 'auto':\n",
    "        if isinstance(data, nx.Graph) or 'graph' in data or ('nodes' in data and 'edges' in data):\n",
    "            viz_type = 'network'\n",
    "        elif 'timeline' in data or any('date' in str(item) for item in data):\n",
    "            viz_type = 'timeline'\n",
    "        elif 'matrix' in data or 'heatmap' in data:\n",
    "            viz_type = 'heatmap'\n",
    "        else:\n",
    "            viz_type = 'network'  # Default for medical data\n",
    "    \n",
    "    # Create appropriate visualization\n",
    "    if viz_type == 'network':\n",
    "        return create_network_visualization(data, title, context)\n",
    "    elif viz_type == 'timeline':\n",
    "        # Fallback to simple timeline if needed\n",
    "        try:\n",
    "            return create_timeline_visualization(data, title, context)\n",
    "        except:\n",
    "            return {\"error\": \"Timeline visualization failed. Try using a simpler format.\"}\n",
    "    elif viz_type == 'heatmap':\n",
    "        # Fallback to simple heatmap if needed\n",
    "        try:\n",
    "            return create_heatmap_visualization(data, title, context)\n",
    "        except:\n",
    "            return {\"error\": \"Heatmap visualization failed. Try using a simpler format.\"}\n",
    "    else:\n",
    "        return {\"error\": f\"Unsupported visualization type: {viz_type}\"}"
   ]
  },
  {
   "cell_type": "code",
   "execution_count": null,
   "metadata": {
    "execution": {
     "iopub.status.busy": "2025-03-05T20:23:38.125103Z",
     "iopub.status.idle": "2025-03-05T20:23:38.125360Z",
     "shell.execute_reply": "2025-03-05T20:23:38.125257Z"
    },
    "trusted": true
   },
   "outputs": [],
   "source": [
    "viz_spec = {\n",
    "    \"type\": \"network\",\n",
    "    \"title\": \"Rare Disease Relationship Network\",\n",
    "    \"context\": {\n",
    "        \"condition\": \"Rare Autoimmune Disorder\",\n",
    "        \"symptoms\": [\"Joint Pain\", \"Fatigue\", \"Rash\", \"Fever\", \"Weight Loss\"]\n",
    "    }\n",
    "}\n",
    "visualization_result = generate_visualization_directly(viz_spec)\n",
    "print(json.dumps(visualization_result, indent=2))"
   ]
  }
 ],
 "metadata": {
  "kaggle": {
   "accelerator": "gpu",
   "dataSources": [],
   "dockerImageVersionId": 30919,
   "isGpuEnabled": true,
   "isInternetEnabled": true,
   "language": "python",
   "sourceType": "notebook"
  },
  "kernelspec": {
   "display_name": "Python 3",
   "language": "python",
   "name": "python3"
  },
  "language_info": {
   "codemirror_mode": {
    "name": "ipython",
    "version": 3
   },
   "file_extension": ".py",
   "mimetype": "text/x-python",
   "name": "python",
   "nbconvert_exporter": "python",
   "pygments_lexer": "ipython3",
   "version": "3.10.12"
  }
 },
 "nbformat": 4,
 "nbformat_minor": 4
}
